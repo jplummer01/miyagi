{
 "cells": [
  {
   "cell_type": "markdown",
   "metadata": {},
   "source": [
    "# Equity Analyst Agent with Assistants API and Function calling\n",
    "\n",
    "### This notebook showcases the capabilities of Azure OpenAI's Assistants API for an Equity Analyst Agent. "
   ]
  },
  {
   "cell_type": "markdown",
   "metadata": {},
   "source": [
    "Install the necessary Python packages (openai, matplotlib, tenacity, python-dotenv) for the notebook to function."
   ]
  },
  {
   "cell_type": "code",
   "execution_count": null,
   "metadata": {},
   "outputs": [],
   "source": [
    "%pip install openai matplotlib tenacity python-dotenv"
   ]
  },
  {
   "cell_type": "markdown",
   "metadata": {},
   "source": [
    "Imports the necessary Python modules and classes used in the notebook. Note the openai module is used to interact with the Assistants API."
   ]
  },
  {
   "cell_type": "code",
   "execution_count": 2,
   "metadata": {},
   "outputs": [],
   "source": [
    "import os\n",
    "from pathlib import Path\n",
    "from dotenv import load_dotenv\n",
    "from openai import AzureOpenAI\n",
    "from openai.types.beta import Thread\n",
    "from openai.types.beta.threads import Run\n",
    "\n",
    "from tenacity import RetryError\n",
    "import yfinance as yf\n",
    "import requests\n",
    "from azure_ai_util import AzureAIUtils, NotCompletedException"
   ]
  },
  {
   "cell_type": "markdown",
   "metadata": {},
   "source": [
    "### Initialize Azure OpenAI Client\n",
    "This cell crucial for establishing communication with Azure OpenAI services. \n",
    "\n",
    "- **Requirement**: Ensure that a `.env` file exists in the same directory as this notebook. This file should contain the necessary API credentials and configuration details, which you can obtain from https://ai.azure.com "
   ]
  },
  {
   "cell_type": "code",
   "execution_count": 3,
   "metadata": {},
   "outputs": [],
   "source": [
    "load_dotenv(\".env\")\n",
    "client = AzureOpenAI(api_key=os.getenv(\"OPENAI_API_KEY\"), \n",
    "                     azure_endpoint=os.getenv(\"OPENAI_ENDPOINT\"),\n",
    "                     api_version=\"2024-02-15-preview\")\n",
    "\n",
    "utils = AzureAIUtils(client)"
   ]
  },
  {
   "cell_type": "markdown",
   "metadata": {},
   "source": [
    "### Create the assistant with tools and files\n",
    "\n",
    "\n",
    "The `create_assistant` function creates an assistant with tools and files. The function takes the following parameters:\n",
    "- `name`: The name of the assistant.\n",
    "- `instructions`: The system message (or meta prompt) that gives the assistant a persona and context.\n",
    "- `tools`: A list of tools that the assistant can use to perform tasks. Currently, these are `code_intrepreter` and `retriever`.\n",
    "- `functions`: Custom functions that the assistant can use to perform tasks. Similar to function calling feature.\n",
    "- `model`: The name of the model to use for the assistant."
   ]
  },
  {
   "cell_type": "code",
   "execution_count": 4,
   "metadata": {},
   "outputs": [],
   "source": [
    "DATA_COLLECTION_LOGIC_APPS_URI = os.getenv(\"DATA_COLLECTION_LOGIC_APPS_URI\")\n",
    "\n",
    "def get_proprietary_data(ticker: str, data_type: str, email: str) -> None:\n",
    "    json_payload = {\"ticker\": ticker, \"data_type\": data_type, \"email\": email}\n",
    "    headers = {\"Content-Type\": \"application/json\"}\n",
    "    response = requests.post(DATA_COLLECTION_LOGIC_APPS_URI, json=json_payload, headers=headers)\n",
    "    if response.status_code == 202:\n",
    "        print(\"Email sent to: \" + json_payload[\"to\"])\n",
    "\n",
    "def get_current_share_price(ticker: str) -> float:\n",
    "    stock = yf.Ticker(ticker)\n",
    "    return stock.history(period=\"1d\")[\"Close\"].iloc[-1]"
   ]
  },
  {
   "cell_type": "code",
   "execution_count": 5,
   "metadata": {},
   "outputs": [],
   "source": [
    "# Fetch the files under the datasets directory\n",
    "DATASETS = \"datasets/\"\n",
    "\n",
    "assistant_files = [utils.upload_file(Path(DATASETS) / file) for file in os.listdir(DATASETS)]\n",
    "file_ids = [file.id for file in assistant_files]"
   ]
  },
  {
   "cell_type": "markdown",
   "metadata": {},
   "source": [
    "Create the assistant with tools and files"
   ]
  },
  {
   "cell_type": "code",
   "execution_count": 6,
   "metadata": {},
   "outputs": [],
   "source": [
    "tools_list = [\n",
    "    {\"type\": \"code_interpreter\"},\n",
    "    {\n",
    "        \"type\": \"function\",\n",
    "        \"function\": {\n",
    "            \"name\": \"get_proprietary_data\",\n",
    "            \"description\": \"Gets proprietary data from a Logic Apps workflow and notifies the user via email.\",\n",
    "            \"parameters\": {\n",
    "                \"type\": \"object\",\n",
    "                \"properties\": {\n",
    "                    \"ticker\": {\"type\": \"string\", \"description\": \"The stock ticker symbol.\"},\n",
    "                    \"data_type\": {\"type\": \"string\", \"description\": \"The type of data to retrieve. ARPU, EPS, Margin, etc.\"},\n",
    "                    \"email\": {\"type\": \"string\", \"description\": \"The email address to notify.\"}\n",
    "                },\n",
    "                \"required\": [\"to\", \"content\"],\n",
    "            },\n",
    "        },\n",
    "    },\n",
    "    {\n",
    "        \"type\": \"function\",\n",
    "        \"function\": {\n",
    "            \"name\": \"get_current_share_price\",\n",
    "            \"description\": \"Get the current share price of a stock or symbol.\",\n",
    "            \"parameters\": {\n",
    "                \"type\": \"object\",\n",
    "                \"properties\": {\"ticker\": {\"type\": \"string\", \"description\": \"The ticker of the stock\"}},\n",
    "                \"required\": [\"ticker\"],\n",
    "            },\n",
    "        },\n",
    "    }\n",
    "]"
   ]
  },
  {
   "cell_type": "code",
   "execution_count": 7,
   "metadata": {},
   "outputs": [],
   "source": [
    "def call_functions(client: AzureOpenAI, thread: Thread, run: Run) -> None:\n",
    "    print(\"Function Calling\")\n",
    "    required_actions = run.required_action.submit_tool_outputs.model_dump()\n",
    "    print(required_actions)\n",
    "    tool_outputs = []\n",
    "    import json\n",
    "\n",
    "    for action in required_actions[\"tool_calls\"]:\n",
    "        func_name = action[\"function\"][\"name\"]\n",
    "        arguments = json.loads(action[\"function\"][\"arguments\"])\n",
    "\n",
    "        if func_name == \"get_current_share_price\":\n",
    "            output = get_current_share_price(ticker=arguments[\"ticker\"])\n",
    "            tool_outputs.append({\"tool_call_id\": action[\"id\"], \"output\": output})\n",
    "        elif func_name == \"get_proprietary_data\":\n",
    "            print(\"Fetching proprietary data\")\n",
    "            ticker = arguments[\"ticker\"]\n",
    "            data_type = arguments[\"data_type\"]\n",
    "            email = arguments[\"email\"]\n",
    "            get_proprietary_data(ticker, data_type, email)\n",
    "\n",
    "            tool_outputs.append({\"tool_call_id\": action[\"id\"], \"output\": \"Fetched proprietary data and notified user.\"})\n",
    "        else:\n",
    "            raise ValueError(f\"Unknown function: {func_name}\")\n",
    "\n",
    "    print(\"Sending tool outputs to the thread.\")\n",
    "    client.beta.threads.runs.submit_tool_outputs(thread_id=thread.id, run_id=run.id, tool_outputs=tool_outputs)"
   ]
  },
  {
   "cell_type": "code",
   "execution_count": 8,
   "metadata": {},
   "outputs": [],
   "source": [
    "assistant = client.beta.assistants.create(\n",
    "    name=\"Equity Analyst\",\n",
    "    instructions=(\"You are an equity analyst that performs analysis on the given datasets. \"\n",
    "                  \"Use the given tools to help you gather data and perform analysis.\"\n",
    "                  \"With your tools, you can retrieve the latest stock price, fetch proprietary data, and notify user.\"),\n",
    "    tools=tools_list,\n",
    "    file_ids=file_ids,\n",
    "    model=os.getenv(\"OPENAI_MODEL_NAME\")\n",
    ")"
   ]
  },
  {
   "cell_type": "markdown",
   "metadata": {},
   "source": [
    "Create a thread, which represents a conversation. It is recommended to create one thread per user. "
   ]
  },
  {
   "cell_type": "code",
   "execution_count": 9,
   "metadata": {},
   "outputs": [],
   "source": [
    "thread = client.beta.threads.create()"
   ]
  },
  {
   "cell_type": "code",
   "execution_count": 10,
   "metadata": {},
   "outputs": [],
   "source": [
    "from tenacity import retry, stop_after_attempt, wait_exponential, retry_if_exception_type\n",
    "\n",
    "@retry(\n",
    "    stop=stop_after_attempt(15),\n",
    "    wait=wait_exponential(multiplier=1.5, min=4, max=20),\n",
    "    retry=retry_if_exception_type(NotCompletedException),\n",
    ")\n",
    "def get_run_lifecycle_status(thread_id, run_id):\n",
    "    run = client.beta.threads.runs.retrieve(thread_id=thread_id, run_id=run_id)\n",
    "    print(f\"Run status: {run.status}\")\n",
    "    if run.status in [\"completed\", \"failed\", \"expired\", \"cancelled\"]:\n",
    "        print(f\"Run info: {run}\")\n",
    "        return run\n",
    "    elif run.status == \"requires_action\":\n",
    "        print(f\"Run requires action: {run}\")\n",
    "        call_functions(client, thread, run)\n",
    "    else:\n",
    "        raise NotCompletedException(\"Run not completed yet\")"
   ]
  },
  {
   "cell_type": "markdown",
   "metadata": {},
   "source": [
    "Create a thread run"
   ]
  },
  {
   "cell_type": "code",
   "execution_count": 11,
   "metadata": {},
   "outputs": [],
   "source": [
    "def analyst_assistant(content: str):\n",
    "    client.beta.threads.messages.create(thread_id=thread.id, role=\"user\", content=content)\n",
    "\n",
    "    run = client.beta.threads.runs.create(\n",
    "        thread_id=thread.id,\n",
    "        assistant_id=assistant.id,\n",
    "        instructions=f\"You are a equity analyst who maps out the ask of the user to an equity analyst's task and thinks step by step to analyze, including making use of the tools. Make generic assumptions\",\n",
    "    )\n",
    "\n",
    "    try:\n",
    "        run = get_run_lifecycle_status(thread.id, run.id)\n",
    "        messages = client.beta.threads.messages.list(thread_id=thread.id)\n",
    "        utils.format_response(messages)\n",
    "    except RetryError:\n",
    "        print(\"Operation failed or timed out after maximum retries.\")\n",
    "    except NotCompletedException:\n",
    "        print(\"Operation did not complete in the expected status.\")\n"
   ]
  },
  {
   "cell_type": "markdown",
   "metadata": {},
   "source": [
    "### Have the assistant perform a DCF valuation"
   ]
  },
  {
   "cell_type": "code",
   "execution_count": 12,
   "metadata": {},
   "outputs": [
    {
     "name": "stdout",
     "output_type": "stream",
     "text": [
      "Run status: queued\n",
      "Run status: in_progress\n",
      "Run status: in_progress\n",
      "Run status: requires_action\n",
      "Run requires action: Run(id='run_K7HtoigzhL1Wb5zSHNj1vJpS', assistant_id='asst_YpPVkonzeK57yQBAtbl1imTq', cancelled_at=None, completed_at=None, created_at=1707891324, expires_at=1707891924, failed_at=None, file_ids=['assistant-e7e5faARedy5axcnTArDAIiN'], instructions=\"You are a equity analyst who maps out the ask of the user to an equity analyst's task and thinks step by step to analyze, including making use of the tools. Make generic assumptions\", last_error=None, metadata={}, model='gpt-4', object='thread.run', required_action=RequiredAction(submit_tool_outputs=RequiredActionSubmitToolOutputs(tool_calls=[RequiredActionFunctionToolCall(id='call_QnF4nLCsRiR9jl3ommsRByCB', function=Function(arguments='{\"ticker\": \"MSFT\"}', name='get_current_share_price'), type='function'), RequiredActionFunctionToolCall(id='call_q16A4JBrG0UEwLgdfZxceNhb', function=Function(arguments='{\"ticker\": \"JPM\"}', name='get_current_share_price'), type='function'), RequiredActionFunctionToolCall(id='call_68csKPCYsXl1jK7Jw3MbspCB', function=Function(arguments='{\"ticker\": \"MSFT\", \"data_type\": \"ARPU\", \"email\": \"gok@microsoft.com\"}', name='get_proprietary_data'), type='function'), RequiredActionFunctionToolCall(id='call_lKZCUlqfEDK5RRAOwtdYe3Rw', function=Function(arguments='{\"ticker\": \"JPM\", \"data_type\": \"ARPU\", \"email\": \"gok@microsoft.com\"}', name='get_proprietary_data'), type='function')]), type='submit_tool_outputs'), started_at=1707891324, status='requires_action', thread_id='thread_9WtW59kO78BZzrbEM7v3WHIr', tools=[ToolAssistantToolsCode(type='code_interpreter'), ToolAssistantToolsFunction(function=FunctionDefinition(name='get_proprietary_data', description='Gets proprietary data from a Logic Apps workflow and notifies the user via email.', parameters={'type': 'object', 'properties': {'ticker': {'type': 'string', 'description': 'The stock ticker symbol.'}, 'data_type': {'type': 'string', 'description': 'The type of data to retrieve. ARPU, EPS, Margin, etc.'}, 'email': {'type': 'string', 'description': 'The email address to notify.'}}, 'required': ['to', 'content']}), type='function'), ToolAssistantToolsFunction(function=FunctionDefinition(name='get_current_share_price', description='Get the current share price of a stock or symbol.', parameters={'type': 'object', 'properties': {'ticker': {'type': 'string', 'description': 'The ticker of the stock'}}, 'required': ['ticker']}), type='function')], usage=None)\n",
      "Function Calling\n",
      "{'tool_calls': [{'id': 'call_QnF4nLCsRiR9jl3ommsRByCB', 'function': {'arguments': '{\"ticker\": \"MSFT\"}', 'name': 'get_current_share_price'}, 'type': 'function'}, {'id': 'call_q16A4JBrG0UEwLgdfZxceNhb', 'function': {'arguments': '{\"ticker\": \"JPM\"}', 'name': 'get_current_share_price'}, 'type': 'function'}, {'id': 'call_68csKPCYsXl1jK7Jw3MbspCB', 'function': {'arguments': '{\"ticker\": \"MSFT\", \"data_type\": \"ARPU\", \"email\": \"gok@microsoft.com\"}', 'name': 'get_proprietary_data'}, 'type': 'function'}, {'id': 'call_lKZCUlqfEDK5RRAOwtdYe3Rw', 'function': {'arguments': '{\"ticker\": \"JPM\", \"data_type\": \"ARPU\", \"email\": \"gok@microsoft.com\"}', 'name': 'get_proprietary_data'}, 'type': 'function'}]}\n"
     ]
    },
    {
     "name": "stderr",
     "output_type": "stream",
     "text": [
      "c:\\Users\\gok\\AppData\\Local\\anaconda3\\envs\\aoai\\Lib\\site-packages\\yfinance\\utils.py:775: FutureWarning: The 'unit' keyword in TimedeltaIndex construction is deprecated and will be removed in a future version. Use pd.to_timedelta instead.\n",
      "  df.index += _pd.TimedeltaIndex(dst_error_hours, 'h')\n",
      "c:\\Users\\gok\\AppData\\Local\\anaconda3\\envs\\aoai\\Lib\\site-packages\\yfinance\\utils.py:775: FutureWarning: The 'unit' keyword in TimedeltaIndex construction is deprecated and will be removed in a future version. Use pd.to_timedelta instead.\n",
      "  df.index += _pd.TimedeltaIndex(dst_error_hours, 'h')\n"
     ]
    },
    {
     "name": "stdout",
     "output_type": "stream",
     "text": [
      "Fetching proprietary data\n",
      "Fetching proprietary data\n",
      "Sending tool outputs to the thread.\n",
      "user:\n",
      "Get MSFT and JPM share price along with ARPU for 10/1/2023 to 12/31/2023 and notify gok@microsoft.com.\n",
      "\n"
     ]
    }
   ],
   "source": [
    "analyst_assistant(\"Get MSFT and JPM share price along with ARPU for 10/1/2023 to 12/31/2023 and notify gok@microsoft.com.\")"
   ]
  },
  {
   "cell_type": "code",
   "execution_count": 13,
   "metadata": {},
   "outputs": [
    {
     "name": "stdout",
     "output_type": "stream",
     "text": [
      "Run status: queued\n",
      "Run status: in_progress\n",
      "Run status: in_progress\n",
      "Run status: in_progress\n",
      "Run status: in_progress\n",
      "Run status: in_progress\n",
      "Run status: in_progress\n",
      "Run status: completed\n",
      "Run info: Run(id='run_47jUAJTC43zpx2IC4UqLtwEv', assistant_id='asst_YpPVkonzeK57yQBAtbl1imTq', cancelled_at=None, completed_at=1707891461, created_at=1707891387, expires_at=None, failed_at=None, file_ids=['assistant-e7e5faARedy5axcnTArDAIiN'], instructions=\"You are a equity analyst who maps out the ask of the user to an equity analyst's task and thinks step by step to analyze, including making use of the tools. Make generic assumptions\", last_error=None, metadata={}, model='gpt-4', object='thread.run', required_action=None, started_at=1707891388, status='completed', thread_id='thread_9WtW59kO78BZzrbEM7v3WHIr', tools=[ToolAssistantToolsCode(type='code_interpreter'), ToolAssistantToolsFunction(function=FunctionDefinition(name='get_proprietary_data', description='Gets proprietary data from a Logic Apps workflow and notifies the user via email.', parameters={'type': 'object', 'properties': {'ticker': {'type': 'string', 'description': 'The stock ticker symbol.'}, 'data_type': {'type': 'string', 'description': 'The type of data to retrieve. ARPU, EPS, Margin, etc.'}, 'email': {'type': 'string', 'description': 'The email address to notify.'}}, 'required': ['to', 'content']}), type='function'), ToolAssistantToolsFunction(function=FunctionDefinition(name='get_current_share_price', description='Get the current share price of a stock or symbol.', parameters={'type': 'object', 'properties': {'ticker': {'type': 'string', 'description': 'The ticker of the stock'}}, 'required': ['ticker']}), type='function')], usage=None)\n",
      "user:\n",
      "Perform a discounted cash flow valuation using the provided dataset, and print the code along with its executed output that was used for this calculation.\n",
      "\n",
      "assistant:\n",
      "To perform a discounted cash flow (DCF) valuation, I will need to follow several steps, which typically include:\n",
      "1. Gathering the historical cash flow information.\n",
      "2. Estimating the future cash flows.\n",
      "3. Deciding on a discount rate to apply to these future cash flows.\n",
      "4. Calculating the present value of these future cash flows (which is the intrinsic value of the company).\n",
      "\n",
      "Since we have a dataset provided, I will first need to examine the contents of the dataset to understand what data is available to us. We will use this data to estimate the company’s future cash flows, which is a critical component of the DCF calculation. The typical data needed includes free cash flow (FCF), growth rates, a terminal value, and a discount rate.\n",
      "\n",
      "Let's start by examining the contents of the dataset you've uploaded. I'll check what data is in the file and then we can proceed with the DCF valuation.\n",
      "\n",
      "assistant:\n",
      "The dataset includes the following fields for the years 2024 to 2028:\n",
      "- Year: The fiscal year of the projection.\n",
      "- Projected Revenue: Expected revenue for the year.\n",
      "- Projected EBIT: Expected Earnings Before Interest and Taxes for the year.\n",
      "- Projected Net Income: Expected net income for the year.\n",
      "- Projected Free Cash Flow (FCF): Expected free cash flow for the year.\n",
      "- Discount Factor: The factor by which the future free cash flow should be multiplied to discount it to present value terms.\n",
      "- Present Value of FCF: The present value of the expected free cash flow for the year.\n",
      "\n",
      "We can use this data for a simplified DCF analysis. However, for a complete DCF, we would need to project cash flows into the future beyond the time frame provided, and we need to calculate a terminal value. Then we sum up all the present values of projected free cash flows and the terminal value to estimate the intrinsic value of the company.\n",
      "\n",
      "In this scenario, I will proceed with a simplified DCF analysis using the provided cash flows from 2024 to 2028. To do this, I will perform the following steps in Python:\n",
      "1. Calculate the sum of the present values of projected free cash flows for the years 2024 to 2028.\n",
      "2. Assume a terminal value using a perpetuity growth model from the last year of projected cash flow (2028) and a conservative growth rate, typically 2-3%.\n",
      "3. Discount the terminal value back to the present value.\n",
      "4. Sum the present value of the projected cash flows and the terminal value to get the total present value (intrinsic value).\n",
      "\n",
      "Let's carry out this simplified DCF calculation.\n",
      "\n",
      "assistant:\n",
      "The intrinsic value of the company, estimated using a simplified discounted cash flow (DCF) valuation with the provided dataset and assumptions, is approximately $1,078,801,467,237.22.\n",
      "\n",
      "Below is the Python code that was used to perform this calculation:\n",
      "\n",
      "```python\n",
      "import pandas as pd\n",
      "\n",
      "# Load the dataset\n",
      "file_path = '/mnt/data/assistant-e7e5faARedy5axcnTArDAIiN'\n",
      "dataset = pd.read_csv(file_path)\n",
      "\n",
      "# DCF Calculation\n",
      "# Sum the present value of the projected free cash flows for the years 2024 to 2028.\n",
      "total_present_value_fcf = dataset['Present Value of FCF'].sum()\n",
      "\n",
      "# Generic assumptions for the terminal value calculation\n",
      "perpetual_growth_rate = 0.025  # Assuming a perpetual growth rate of 2.5%\n",
      "discount_rate = 0.07  # Assuming a discount rate (WACC) of 7%\n",
      "\n",
      "# Calculate the terminal value using a perpetuity growth model from the last year of projected cash flow (2028)\n",
      "last_projected_fcf = dataset['Projected Free Cash Flow'].iloc[-1]\n",
      "terminal_value = (last_projected_fcf * (1 + perpetual_growth_rate)) / (discount_rate - perpetual_growth_rate)\n",
      "\n",
      "# Discount the terminal value back to the present value\n",
      "n_years = dataset['Year'].iloc[-1] - dataset['Year'].iloc[0] + 1\n",
      "present_value_terminal_value = terminal_value / ((1 + discount_rate) ** n_years)\n",
      "\n",
      "# Total present value (intrinsic value)\n",
      "intrinsic_value = total_present_value_fcf + present_value_terminal_value\n",
      "\n",
      "# Output\n",
      "print(intrinsic_value)\n",
      "``` \n",
      "\n",
      "The output of this code was:\n",
      "```\n",
      "1078801467237.2244\n",
      "``` \n",
      "\n",
      "This model has made several simplifications and assumptions, which include:\n",
      "- A perpetual growth rate of 2.5% for the terminal value.\n",
      "- A discount rate of 7%.\n",
      "- The cash flows were only projected up to the year 2028 and do not consider any further future cash flows or other financial metrics.\n",
      "- A standard perpetuity model for terminal value calculation without considering potential changes in the company's risk profile or economic environment beyond 2028.\n",
      "\n",
      "For a more in-depth analysis, you would customize these assumptions based on a company's specific risk profile, capital structure, and market conditions, and potentially do a more detailed cash flow forecast beyond the given period.\n",
      "\n"
     ]
    }
   ],
   "source": [
    "analyst_assistant(\"Perform a discounted cash flow valuation using the provided dataset, and print the code along with its executed output that was used for this calculation.\")"
   ]
  },
  {
   "cell_type": "code",
   "execution_count": 14,
   "metadata": {},
   "outputs": [
    {
     "name": "stdout",
     "output_type": "stream",
     "text": [
      "Run status: in_progress\n",
      "Run status: in_progress\n",
      "Run status: in_progress\n",
      "Run status: in_progress\n",
      "Run status: in_progress\n",
      "Run status: in_progress\n",
      "Run status: completed\n",
      "Run info: Run(id='run_xSEXFLhX1qOrAigcLIJt6gGI', assistant_id='asst_YpPVkonzeK57yQBAtbl1imTq', cancelled_at=None, completed_at=1707891540, created_at=1707891485, expires_at=None, failed_at=None, file_ids=['assistant-e7e5faARedy5axcnTArDAIiN'], instructions=\"You are a equity analyst who maps out the ask of the user to an equity analyst's task and thinks step by step to analyze, including making use of the tools. Make generic assumptions\", last_error=None, metadata={}, model='gpt-4', object='thread.run', required_action=None, started_at=1707891486, status='completed', thread_id='thread_9WtW59kO78BZzrbEM7v3WHIr', tools=[ToolAssistantToolsCode(type='code_interpreter'), ToolAssistantToolsFunction(function=FunctionDefinition(name='get_proprietary_data', description='Gets proprietary data from a Logic Apps workflow and notifies the user via email.', parameters={'type': 'object', 'properties': {'ticker': {'type': 'string', 'description': 'The stock ticker symbol.'}, 'data_type': {'type': 'string', 'description': 'The type of data to retrieve. ARPU, EPS, Margin, etc.'}, 'email': {'type': 'string', 'description': 'The email address to notify.'}}, 'required': ['to', 'content']}), type='function'), ToolAssistantToolsFunction(function=FunctionDefinition(name='get_current_share_price', description='Get the current share price of a stock or symbol.', parameters={'type': 'object', 'properties': {'ticker': {'type': 'string', 'description': 'The ticker of the stock'}}, 'required': ['ticker']}), type='function')], usage=None)\n",
      "user:\n",
      "Summarize and Visualize this information to someone new to finance and investing.\n",
      "\n",
      "assistant:\n",
      "To summarize the discounted cash flow (DCF) valuation method to someone new to finance and investing:\n",
      "\n",
      "DCF is a technique that helps determine the value of an investment based on its expected future cash flows. The basic idea is that a dollar in the future is worth less than a dollar today because of inflation and the opportunity cost of not having the money to invest elsewhere. The DCF model aims to calculate how much these future dollars are worth in today's terms.\n",
      "\n",
      "Here's a simple breakdown of how we value a company using DCF:\n",
      "1. **Projected Free Cash Flows**: We first estimate how much cash the company will generate in the upcoming years, after accounting for operational costs and expenses.\n",
      "2. **Discount Rate**: This is the interest rate we use to 'discount' future cash flows back to their present value. It reflects the risk and the time value of money.\n",
      "3. **Terminal Value**: Since we can't predict cash flows forever, we estimate a terminal value at the end of our prediction period to account for all the cash flows beyond that period into perpetuity. This is done using a formula that incorporates a constant growth rate and the discount rate.\n",
      "4. **Summation of Present Values**: We sum up all the present values of each predicted future cash flows and the terminal value. This gives us the total present value, or the intrinsic value of the company. \n",
      "\n",
      "Using the provided dataset, we calculated the total present value based on the projected cash flows for the years 2024-2028 and an assumed terminal value.\n",
      "\n",
      "Now, let me visualize the projected free cash flows (FCF) over the years and show the intrinsic value of the company using a bar chart for clarity. This will help you understand how the value accumulates over time.\n",
      "\n"
     ]
    },
    {
     "data": {
      "image/png": "[encoded data removed]",
      "text/plain": [
       "<Figure size 640x480 with 1 Axes>"
      ]
     },
     "metadata": {},
     "output_type": "display_data"
    },
    {
     "name": "stdout",
     "output_type": "stream",
     "text": [
      "assistant:\n",
      "The bar chart above visually represents the discounted cash flow (DCF) valuation. Here's how to interpret the chart:\n",
      "\n",
      "- The sky-blue bars show the projected free cash flow (FCF) for each year from 2024 to 2028. These are the amounts of cash the company is expected to generate after covering all expenses and investments.\n",
      "- The light green bars represent the present value of those projected FCFs. This value is less than the projected FCF because future cash is discounted to its current worth.\n",
      "- The red dashed line represents the total intrinsic value of the company calculated from the DCF analysis, which is approximately $1.08 trillion.\n",
      "\n",
      "The intrinsic value is the sum of all the light green bars plus the value of all future cash flows beyond 2028 (represented by the terminal value, not shown separately in the chart).\n",
      "\n",
      "For someone new to finance and investing, this chart helps visualize that a company's value is not just the cash it has today, but the cash it can generate in the future, provided we consider how much that future cash is worth in today's dollars. The intrinsic value calculated using the DCF method provides an estimate of what the company might be worth based on its future cash-generating abilities.\n",
      "\n"
     ]
    }
   ],
   "source": [
    "analyst_assistant(\"Summarize and Visualize this information to someone new to finance and investing.\")"
   ]
  },
  {
   "cell_type": "markdown",
   "metadata": {},
   "source": [
    "### Delete the thread and assistant"
   ]
  },
  {
   "cell_type": "code",
   "execution_count": null,
   "metadata": {},
   "outputs": [],
   "source": [
    "for entity in [(client.beta.assistants, assistant), (client.beta.threads, thread)]:\n",
    "    entity[0].delete(entity[1].id)\n",
    "\n",
    "for file in assistant_files:\n",
    "    client.files.delete(file.id)"
   ]
  }
 ],
 "metadata": {
  "kernelspec": {
   "display_name": "Python 3 (ipykernel)",
   "language": "python",
   "name": "python3"
  },
  "language_info": {
   "codemirror_mode": {
    "name": "ipython",
    "version": 3
   },
   "file_extension": ".py",
   "mimetype": "text/x-python",
   "name": "python",
   "nbconvert_exporter": "python",
   "pygments_lexer": "ipython3",
   "version": "3.12.1"
  }
 },
 "nbformat": 4,
 "nbformat_minor": 4
}
