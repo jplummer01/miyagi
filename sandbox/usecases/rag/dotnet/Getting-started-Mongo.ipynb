{
 "cells": [
  {
   "attachments": {},
   "cell_type": "markdown",
   "metadata": {},
   "source": [
    "# Getting Started with Miyagi's Retrieval Augmented Generation (RaG) Workflow using Azure Cognitive Search (ACS) and Semantic Kernel\n",
    "\n",
    "To quickly get started, follow these steps:\n",
    "\n",
    "1. Ensure the [Polyglot notebooks extension](https://marketplace.visualstudio.com/items?itemName=ms-dotnettools.dotnet-interactive-vscode) is installed.\n",
    "2. [Create a new Azure OpenAI service (or use an existing OpenAI service)](https://learn.microsoft.com/en-us/azure/ai-services/openai/chatgpt-quickstart?tabs=command-line&pivots=programming-language-studio#prerequisites).\n",
    "3. [Deploy the `gpt-35-turbo` and `text-embeddings-ada-002` models](https://learn.microsoft.com/en-us/azure/ai-services/openai/concepts/models#working-with-models).\n",
    "4. [Create an Azure Cognitive Search instance and enable the Semantic Search capability](https://learn.microsoft.com/en-us/azure/search/semantic-search-overview#enable-semantic-search).\n",
    "5. Copy the `.env.example` file from the `rag` folder to `dotnet/.env` and paste the corresponding values from the resources you provisioned in the earlier steps.\n",
    "6. Click on `Run All`.\n",
    "\n",
    "> You will need an [.Net 7 SDK](https://dotnet.microsoft.com/en-us/download) and [Polyglot](https://marketplace.visualstudio.com/items?itemName=ms-dotnettools.dotnet-interactive-vscode) to get started with this notebook using .Net Interactive"
   ]
  },
  {
   "cell_type": "markdown",
   "metadata": {},
   "source": [
    "## Overview\n",
    "In this notebook, we will show you how to quickly get started with Miyagi's Retrieval Augmented Generation (RaG) workflow using Semantic Kernel, Azure Cognitive Search (ACS) and Cosmos. Through this use case, involving stock recommendations, you will understand the basics of RaG and the capabilities of Semantic Kernel, Azure Cognitive Search and Cosmos to adapt to your specific use case."
   ]
  },
  {
   "cell_type": "markdown",
   "metadata": {},
   "source": [
    "## Load settings from .env file"
   ]
  },
  {
   "cell_type": "code",
   "execution_count": 2,
   "metadata": {
    "dotnet_interactive": {
     "language": "csharp"
    },
    "polyglot_notebook": {
     "kernelName": "csharp"
    }
   },
   "outputs": [
    {
     "data": {
      "text/html": [
       "<div><div></div><div></div><div><strong>Installed Packages</strong><ul><li><span>dotenv.net, 3.1.3</span></li></ul></div></div>"
      ]
     },
     "metadata": {},
     "output_type": "display_data"
    }
   ],
   "source": [
    "#r \"nuget: dotenv.net\"\n",
    "dotenv.net.DotEnv.Load();\n",
    "var env = dotenv.net.DotEnv.Read();"
   ]
  },
  {
   "cell_type": "markdown",
   "metadata": {},
   "source": [
    "## Prepare the kernel with memory using Azure Cognitive Search"
   ]
  },
  {
   "cell_type": "markdown",
   "metadata": {},
   "source": [
    "We first add the nuget packages (dependecies) required to instantiate the kernel. "
   ]
  },
  {
   "cell_type": "code",
   "execution_count": 3,
   "metadata": {
    "dotnet_interactive": {
     "language": "csharp"
    },
    "polyglot_notebook": {
     "kernelName": "csharp"
    }
   },
   "outputs": [
    {
     "data": {
      "text/html": [
       "<div><div></div><div></div><div><strong>Installed Packages</strong><ul><li><span>Microsoft.SemanticKernel, 1.0.1</span></li><li><span>Microsoft.SemanticKernel.Connectors.AzureAISearch, 1.0.1-alpha</span></li><li><span>Microsoft.SemanticKernel.Connectors.MongoDB, 1.0.1-alpha</span></li><li><span>Microsoft.SemanticKernel.Connectors.Postgres, 1.0.1-alpha</span></li><li><span>Microsoft.SemanticKernel.Plugins.Core, 1.0.1-alpha</span></li><li><span>Microsoft.SemanticKernel.Plugins.Memory, 1.0.1-alpha</span></li><li><span>Microsoft.SemanticKernel.Plugins.OpenApi, 1.0.1-alpha</span></li><li><span>Microsoft.SemanticKernel.PromptTemplates.Handlebars, 1.0.1</span></li><li><span>Microsoft.SemanticKernel.Yaml, 1.0.1</span></li><li><span>MongoDB.Bson, 2.22.0</span></li><li><span>MongoDB.Driver, 2.22.0</span></li></ul></div></div>"
      ]
     },
     "metadata": {},
     "output_type": "display_data"
    }
   ],
   "source": [
    "#r \"nuget: Microsoft.SemanticKernel, 1.0.1\"\n",
    "#r \"nuget: Microsoft.SemanticKernel.Connectors.AzureAISearch, 1.0.1-alpha\"\n",
    "#r \"nuget: Microsoft.SemanticKernel.Connectors.MongoDB, 1.0.1-alpha\"\n",
    "#r \"nuget: Microsoft.SemanticKernel.Connectors.Postgres, 1.0.1-alpha\"\n",
    "#r \"nuget: Microsoft.SemanticKernel.Plugins.OpenApi, 1.0.1-alpha\"\n",
    "#r \"nuget: Microsoft.SemanticKernel.Plugins.Memory, 1.0.1-alpha\"\n",
    "#r \"nuget: Microsoft.SemanticKernel.Plugins.Core, 1.0.1-alpha\"\n",
    "#r \"nuget: Microsoft.SemanticKernel.PromptTemplates.Handlebars, 1.0.1\"\n",
    "#r \"nuget:  Microsoft.SemanticKernel.Yaml, 1.0.1\"\n",
    "#r \"nuget:  MongoDB.Bson, 2.22.0\"\n",
    "#r \"nuget:  MongoDB.Driver, 2.22.0\"\n"
   ]
  },
  {
   "cell_type": "code",
   "execution_count": 4,
   "metadata": {
    "dotnet_interactive": {
     "language": "csharp"
    },
    "polyglot_notebook": {
     "kernelName": "csharp"
    }
   },
   "outputs": [],
   "source": [
    "using Microsoft.SemanticKernel;"
   ]
  },
  {
   "cell_type": "markdown",
   "metadata": {},
   "source": [
    "With dependencies installed and configured, we create an instance of the kernel using the built-in `Kernel.Builder` class"
   ]
  },
  {
   "cell_type": "code",
   "execution_count": 5,
   "metadata": {
    "dotnet_interactive": {
     "language": "csharp"
    },
    "polyglot_notebook": {
     "kernelName": "csharp"
    }
   },
   "outputs": [],
   "source": [
    "var builder = Kernel.CreateBuilder();\n",
    "        builder.Services.AddAzureOpenAIChatCompletion(\n",
    "            env[\"AZURE_OPENAI_CHAT_MODEL\"],\n",
    "            env[\"AZURE_OPENAI_ENDPOINT\"],\n",
    "            env[\"AZURE_OPENAI_API_KEY\"]\n",
    "        );\n",
    "\n",
    "var kernel = builder.Build();"
   ]
  },
  {
   "cell_type": "markdown",
   "metadata": {},
   "source": [
    "To make the kernel stateful, we will use Memory Plugin with a Azure Cognitive Search and Embedding backend. "
   ]
  },
  {
   "cell_type": "code",
   "execution_count": 6,
   "metadata": {
    "dotnet_interactive": {
     "language": "csharp"
    },
    "polyglot_notebook": {
     "kernelName": "csharp"
    }
   },
   "outputs": [],
   "source": [
    "using Microsoft.SemanticKernel.Connectors.AzureAISearch;\n",
    "using Microsoft.SemanticKernel.Connectors.OpenAI;\n",
    "using Microsoft.SemanticKernel.Memory;\n",
    "using Microsoft.SemanticKernel.Plugins.Core;\n",
    "using Microsoft.SemanticKernel.Connectors.MongoDB;\n",
    "//using Microsoft.SemanticKernel.Connectors.Postgres;\n",
    "//using Npgsql;\n",
    "  \n",
    "#pragma warning disable SKEXP0003\n",
    "#pragma warning disable SKEXP0011\n",
    "#pragma warning disable SKEXP0021\n",
    "#pragma warning disable SKEXP0030\n",
    "\n",
    "\n",
    "//NpgsqlDataSourceBuilder dataSourceBuilder = new(env[\"AZURE_COSMOS_MONGO_VECTORDB_CONNECTIONSTRING\"]);\n",
    "//dataSourceBuilder.UseVector();\n",
    "//NpgsqlDataSource dataSource = dataSourceBuilder.Build();\n",
    "#pragma warning disable SKEXP0032\n",
    "//IMemoryStore store = new PostgresMemoryStore(dataSource, vectorSize: 1536, schema: \"public\");\n",
    "\n",
    "IMemoryStore store = new MongoDBMemoryStore(env[\"AZURE_COSMOS_MONGO_VECTORDB_CONNECTIONSTRING\"], env[\"AZURE_COSMOS_MONGO_VECTORDB_NAME\"]);\n",
    "// IMemoryStore store = new AzureAISearchMemoryStore(\n",
    "//     env[\"AZURE_COGNITIVE_SEARCH_ENDPOINT\"],\n",
    "//     env[\"AZURE_COGNITIVE_SEARCH_API_KEY\"]);\n",
    "            \n",
    "// Create an embedding generator to use for semantic memory.\n",
    "var embeddingGenerator = new AzureOpenAITextEmbeddingGenerationService(\n",
    "    env[\"AZURE_OPENAI_EMBEDDING_MODEL\"],\n",
    "    env[\"AZURE_OPENAI_ENDPOINT\"],\n",
    "    env[\"AZURE_OPENAI_API_KEY\"],\n",
    "    env[\"AZURE_OPENAI_EMBEDDING_MODEL\"]);\n",
    "SemanticTextMemory textMemory = new(store, embeddingGenerator);"
   ]
  },
  {
   "cell_type": "markdown",
   "metadata": {},
   "source": [
    "## Vectorize and persist embeddings in Azure Cognitive Search with Semantic Kernel"
   ]
  },
  {
   "cell_type": "markdown",
   "metadata": {},
   "source": [
    "Embeddings are a type of data transformation that convert text into high-dimensional vectors that capture semantic relationships between words or text chunks. This vectorized form allows machines to process text in a manner akin to numerical data, enabling operations like similarity comparison which is foundational for vector databases to retrieve meaningful context for LLMs. Embeddings are essential to generate and retrieve relevant content in a RaG workflow because:\n",
    "\n",
    "1. They normalize your data in a common mathematical representation, making it machine-friendly\n",
    "1. They compress data, retaining essential representations while reducing dimensionality\n",
    "1. They preserve relationships within your data\n",
    "1. They are representationally dense, meaning they are more efficient to store and process\n",
    "\n",
    "\n",
    "> See a visual representation of the embeddings in 2D space below (from Cohere):"
   ]
  },
  {
   "cell_type": "markdown",
   "metadata": {},
   "source": [
    "![Semantic Search](https://txt.cohere.com/content/images/2023/01/Vis-7-2.jpg)"
   ]
  },
  {
   "cell_type": "markdown",
   "metadata": {},
   "source": [
    "Now, let’s delve into the process of creating and utilizing embeddings in the context of ACS.\n",
    "\n",
    "In this scenario, we have a snippet of proprietary text data—extracted from a book—which needs to be processed and indexed for semantic search. The steps involve:\n",
    "\n",
    "1. Chunking the Text: Breaking down the text into manageable pieces, referred to as 'chunks'.\n",
    "1. Generating Embeddings: Transforming these chunks into high-dimensional vectors using an Azure Text Embedding Generation Service.\n",
    "1. Persisting Embeddings to ACS: Storing these embeddings in Azure Cognitive Search to facilitate semantic search.\n",
    "\n",
    "The provided code snippet orchestrates these steps. It reads the text data from a local file, chunks it, generates embeddings for each chunk, and then persists these embeddings to ACS. The specific operations are abstracted for simplicity using methods like SaveInformationAsync, which is part of a hypothetical kernel object in this code. The end result is a collection of indexed embeddings in ACS that significantly enhance search quality by moving beyond mere keyword matching to understanding semantic relationships."
   ]
  },
  {
   "cell_type": "code",
   "execution_count": 7,
   "metadata": {
    "dotnet_interactive": {
     "language": "csharp"
    },
    "polyglot_notebook": {
     "kernelName": "csharp"
    }
   },
   "outputs": [
    {
     "name": "stdout",
     "output_type": "stream",
     "text": [
      "SYNOPSIS\n",
      "This book will not teach you how to beat the market. However, it will teach you how to reduce risk, protect your capital from loss and reliably generate sustainable returns over the long run. Warren Buffett calls the Intelligent Investor \"\"by far the best book on investing ever written.\"\"\n",
      "Benjamin's proven value investing approach replaces risky attempts to project future share prices with sound investments based on the underlying value of the company's tangible assets.\n",
      "The Intelligent Investor by Benjamin Graham gives you everything you need to equip yourself with the investor's mindset necessary to avoid the panic of market fluctuations that plague the ordinary investor. Don't be ordinary. Be intelligent.\n",
      "\n",
      "TOP 20 INSIGHTS\n",
      "There are two kinds of investors. Defensive investors aim to protect their capital from losses, generate decent returns and minimize frequent decisions. Enterprising investors devote most of their time to manage their portfolios actively. An enterprising investor does not take more risks than a defensive investor but invests more in stock selection.\n",
      "Part-time investors should stick to defensive investment strategies. Defensive investors can achieve a decent result with minimum effort and capability. However, even a marginal improvement from this result is challenging and requires extraordinary knowledge and skill. An attempt to outsmart the market by spending a little extra time and effort will primarily result in below-average gains.\n",
      "Confusing speculation with investment can be a costly mistake. Speculators buy hot stocks based on future growth prospects. In contrast, investment is made on a thorough analysis of the underlying business to ensure the safety of principal and adequate — but not extraordinary — gain. Invest in a stock only when you can comfortably own it without following its daily share price.\n",
      "If you cannot resist the urge to bet on the next big growth stock, set strict limits on speculation. Keep a separate speculative account with less than 10% of your capital for speculative activities. Never mix money from the investment account and speculation account.\n",
      "It's a risky idea to speculate on high-growth industries, and high-growth stocks are a risky idea. The growth prospects for a business do not necessarily result in profits for investors. Because these stocks are often overpriced, growth may not result in proportional returns. Only eight of the largest 150 companies on the Fortune 500 list managed to grow earnings by at least 15% over two decades.\n",
      "Graham strongly urges investors to stay away from Initial Public Offerings. IPOs often happen in bull markets and lead to inflated valuations. When the bear market begins, these overheated speculative stocks are the first to crash and cause severe losses.\n",
      "An investor who bought every IPO at its public closing price and held on for three years, from 1980 to 2001, would have underperformed the market by 23% annually.\n",
      "A sure way to predict the end of a bull market is when the stocks of new nondescript small businesses are priced higher than reputed medium-sized companies. The bull run of the 1980s saw over 4000 stocks created.\n",
      "This lead to the 1987 crash. IPOs dried up between 1988 to 1990, which lead to the 90's bull market. During this time, over 5000 new stocks were created, which led to the 2001 crash of the dot com bubble.\n",
      "It is dangerous for ordinary investors to time the market. Value investors instead identify and invest in large, conservatively financed companies whose present value as estimated by tangible assets is substantially below their current stock prices. There is no attempt to predict an uncertain future, and there is enough margin to absorb unfavorable developments.\n",
      "Never buy any security far above its tangible asset value. Though outstanding companies are often worth several times their tangible asset value, the investor becomes too dependent on stock market fluctuations. In contrast, an investor who purchases stocks close to tangible asset value can ignore market fluctuations, confident that he has bought an interest in a sound business for a reasonable price.\n",
      "Price and value are two different concepts. Think of Mr. Market as an irrational investor in a business you also invested in. He frequently changes his mind and quotes wildly different prices for your share.\n",
      "His behavior will hardly change your fundamental perception about the value of the business. However, you would gladly buy when his price is far lower than the business value and sell when his price is far higher than the business value.\n",
      "The start of a bear market is good news for intelligent investors. They recognize that stocks become riskier as their prices rise and less risky as their prices crash. A bear market is a considerably safer time to buy stocks close to their asset value and build sustainable wealth.\n",
      "A defensive investor's portfolio must have 50% in high-grade bonds and 50% in common stocks irrespective of market conditions. Doing so will prevent them from buying excess shares in a bull market and rushing into bonds in the bear market. Once they set up their portfolio, the defensive investor checks every six months to rebalance it if market change alters this ratio by over 5%.\n",
      "Enterprising investors' confidence in their professional analysis may reduce their stock component to 25% when the markets are dangerously high and raise their stock component to 75% at the bottom of a bear market. However, a minimum of 25% in bonds is essential as it will give investors the cushion to hold on to stocks even through the worst bear markets.\n",
      "Purchase only tax-free municipal bonds unless you fall in the lowest tax bracket. Choose bonds that mature in five to 10 years as they remain relatively stable with interest rate fluctuations. Bond funds are an excellent choice for individual investors as they offer cheap and easy diversification to minimize risk.\n",
      "Both Graham and Warren Buffet recommend index funds as the best long-term bet for defensive investors. Index funds own a cross-section of the entire market without any stock selection. While they may be unglamorous and show steady returns compared to more aggressive funds, index funds have low risk and have historically outperformed most mutual funds over 20 year periods.\n",
      "If you enjoy stock selection, make the index fund the foundation of your portfolio and experiment with around 10% of funds. Buy only stocks priced below 22.5 times the average 12-month earnings. The stock price must not be higher than 1.\n",
      "5 times the book value. If the book value multiplier is low, the earnings multiplier can be higher. But the product of the multiplier of earnings and multiplier of book value should not exceed 22.5.\n",
      "Do not be swayed by home bias. Familiarity often prevents investors from doing the required due diligence before picking a stock. Many average investors make the mistake of buying familiar stocks or stocks of their own companies. On average, 401(k) investors keep between 25% to 30% of their retirement assets in their company's stock.\n",
      "Graham insists on using a multi-year average of past returns to calculate Price/Earnings ratio. Consider a company that earned $0.50 per share over six years but earned $3 over the last 12 months. At 25 times the P/E ratio based on the last year, the stock would be valued at $75. In contrast, valued at 25 times the average earnings over the past seven years, the stock would be valued at just $21.43.\n",
      "Prevention of losses takes priority over improving gains. Assume an investor buys a stock at the peak of a bull market that can generate 5% above average market returns. The bull market ends, and the stock drops by 50% the following year. Even if the stock gains 10% every year, it will take beyond 16 years to overtake market returns.\n",
      "The margin of safety is essential to ensure against loss and improve upside potential. The stock price must be substantially lower than its underlying tangible asset value. In 1973, Warren Buffet invested in The Washington Post when it was priced at $83 million, and its assets were worth at least $400 million. The investment had both a substantial margin of safety and massive growth potential.\n",
      "Graham designed his approach to craft a reliable portfolio that requires minimum maintenance and offers maximum odds of a steady return.\n",
      "By sticking to a formula for investment decisions, the defensive investor gives up the risk of speculating on stock movements and gains steady returns. After the initial curation, if the investor trades more than twice a year, it is a clear sign something has gone wrong.\n",
      "[widget]\n",
      "SUMMARY\n",
      "Price and value are two different concepts, and stock prices frequently don't reflect a company's actual value. More risk does not necessarily correlate with more gain.\n",
      "On the contrary, a substantial margin of safety and the difference between stock price and fundamental asset value can protect against loss while improving potential upside. Value investing can help you create a core portfolio that frees you from the need to track market prices and guarantee maximum odds of a steady return.\n",
      "Graham's value investing approach is a reliable, risk-free path to protecting one's investments and generating decent stock market returns. It replaces risky speculation on future stock prices with a systematic way to derisk investments and build wealth.\n",
      "Investors and speculators\n",
      "It is essential to distinguish investment from speculation. An investment, according to Graham, is based on thorough analysis that promises both safeties of principal and an adequate return. Three components of this definition are essential:\n",
      "Base purchases on a thorough analysis of a company's underlying businesses.\n",
      "Focus on preventing severe losses.\n",
      "Seek \"adequate\" and not extraordinary gains.\n",
      "Speculators, on the other hand, buy stocks based on projected future growth in price. Every nonprofessional who operates on margin or buys \"hot\" stocks is effectively speculating or gambling.\n",
      "Speculation lowers the odds of building wealth. Do not speculate under the illusion that you are making an investment decision. If you wish to speculate, put aside a small portion of the capital (below 10%) in a separate fund.\n",
      "Speculative approaches that don't work\n",
      "1. Betting on growth stocks\n",
      "\n",
      "Many investors fall for the allure of growth stocks. Just because a growth stock performed better than average in the past and is projected to do so into the future doesn't mean it will — it's a risk.\n",
      "There is no foolproof way to select and concentrate on the most promising companies in the most reliable industries.\n",
      "Common stocks with good records sell for a corresponding premium. The investor may be right about the company's prospects and yet not benefit because he has probably overpaid for the stock.\n",
      "Unusually rapid growth cannot continue forever because the increase in size makes subsequent growth more difficult. From 1960 to 1999, only 8 of the largest 150 companies on the Fortune 500 list managed to grow earnings by at least 15% over two decades.\n",
      "Between 1992 to December 2002, funds investing in large growth companies underperformed the stock market by an average of 3.7 percentage points every year.\n",
      "Growth stocks swing wildly, giving rise to a highly speculative risk element. The more the stock advances, the higher the frenzy, the riskier it becomes. Experienced investors have had their investments wiped out speculating on hot Airline stocks in the 1950s and booming Internet stocks during the Dotcom Bubble.\n",
      "Avoiding a loss takes priority over improving gains. To make up for a 95% loss in value requires the investor to make an astounding gain of 1900%.\n",
      "[widget]\n",
      "2. Initial public offerings\n",
      "Graham warns investors to avoid purchasing Initial Public Offerings (IPOs), particularly in bull markets — for two reasons. First, IPOs offer a higher built-in commission, leading to a harder sell. Second, new issues are nearly always sold near the peak of a bull market. The initial IPOs in a rising market lead to profits fuelling a frenzy for subsequent IPOs.\n",
      "A clear sign of the end of a bull market is when IPOs of small and nondescript companies have stock values higher than medium-sized enterprises with a long history. Since the prices of these new stocks usually crash to new lows, Graham warns investors to stay away from this kind of costly speculation.\n",
      "In the 1980's bull market, 4000 stocks flooded the market, leading to the crash of 1987. IPOs dried up between 1988 -1990, contributing to the 90's bull market where nearly 5000 new stocks were listed.\n",
      "After the Dotcom bubble, only 88 companies issued IPOs in 2001. An investor who bought every IPO at its public closing price from 1980 to 2001 would have underperformed the market by more than 23% annually.\n",
      "resource image\n",
      "Defensive and enterprising investors\n",
      "\n",
      "There are two types of investors, according to Graham: Defensive and Enterprising Investors.\n",
      "\n",
      "Defensive investors primarily seek to avoid losses, generate a decent return and minimize time spent on the stock market by creating a portfolio that virtually runs on autopilot.\n",
      "The Enterprising investor is willing to devote more time and effort to researching securities, hoping to make a better average return than the passive investor over the long term. Graham's enterprising investor is not someone willing to take more risks than the defensive investor.\n",
      "Playing with risk is the domain of a speculator. The enterprising investor must have sufficient knowledge of securities to consider his investments equivalent to a full-time business.\n",
      "The enterprising approach is physically and intellectually taxing, while the passive approach is emotionally demanding, asking the investor to do nothing for years. There is no room for a middle ground between a defensive and enterprising investor.\n",
      "An ordinary investor can achieve a decent result with minimal effort, but even a marginal improvement on this result requires extraordinary knowledge and skill. Putting a little more time and effort to improve outcomes through stock selection is sure to result in below-average returns. Therefore, most investors must recognize that they are defensive investors and should use suitable strategies.\n",
      "[widget]\n",
      "Principles of value investing\n",
      "The predictive and protective approaches\n",
      "Investors can take advantage of market swings in two ways. Prediction involves estimating the future growth of a company's earnings through mathematical methods. Speculators attempt to time the market by buying based on growth predictions and selling based on predicted declines.\n",
      "Projection is dangerous because the future is uncertain, and inflation, economic recessions, pandemics and geopolitical upheavals often arrive without warning. Graham argues that it is a fool's errand for an ordinary investor to attempt making money by timing the market.\n",
      "Graham advocates for a protection-based approach that does not try to time the market. Value investors should identify and invest in large, conservatively financed companies whose present value (as estimated by tangible assets) is substantially below their current stock prices.\n",
      "A protection-based approach creates a margin to absorb unfavorable developments in the future. The focus is on ensuring tangible value in purchasing the stock at current prices\n",
      "Think like a partner\n",
      "\n",
      "A shareholder can see themselves as the buyer and seller of shares whose prices vary by the moment or as a minority partner in a private business whose value depends on the assets and profits of the enterprise. While many companies are worth far more than their net assets, the buyers of their stock become dependent on the stock market fluctuations.\n",
      "Investors should limit themselves to securities currently selling for not that far above their tangible asset value for both practical and psychological reasons. When an investor pays well above net asset value for a share, they become a speculator dependent on the vagaries of the stock market to generate a profit.\n",
      "However, an investor who buys shares near the net-asset value of a company can consider themselves the part-owner of a sound and expanding business acquired at a reasonable price.\n",
      "Unlike the speculator who paid high multiples of earnings and tangible assets, they can take a detached view and ignore stock market fluctuations. This conservative policy is likely to work out better than risky investments based on anticipated growth.\n",
      "Meet Mr. Market\n",
      "Graham gives the allegory of Mr. Market to illustrate the investor's ideal attitude to the stock market. Imagine you paid $1000 to buy a small share in a private business. One of the partners, Mr. Market, tells you every day what your share is worth and offers to buy or sell additional interest in the business. Unlike a private buyer, Mr.\n",
      "Market often quotes exuberantly high values or absurdly low ones. Given this situation, there is no way a sensible investor will rely on Mr. Market to understand the underlying value of their shareholding. However, they would be more than happy to buy from Mr. Market when he quotes meager rates and sell to Mr. Market when he quotes relatively high rates.\n",
      "Similarly, a defensive investor who has made a value-based investment based on sound business fundamentals will ignore the stock market valuation apart from taking advantage of its swings. Graham goes so far as to say that the single biggest reason investors fail is that they pay too much attention to what the stock market is currently doing.\n",
      "Intelligent investors should be comfortable holding their stocks even if they don't see the daily stock market prices for years. Experiments have shown that investors who received frequent news updates about their stocks earned half the returns of investors who received no information at all.\n",
      "resource image\n",
      "[widget]\n",
      "A defensive investor's stock portfolio\n",
      "Asset allocation\n",
      "Graham suggests a mechanical 50-50 split between stocks and bonds for defensive investors to guard against over-purchasing shares in a bull market and rushing into bonds in a bear market. The only action they should take is to rebalance their portfolio every six months if market developments alter this 50-50 ratio by over 5%.\n",
      "On the other hand, enterprising investors can increase their stocks up to 75% when markets are low and reduce it up to 25% when markets are at their peak. However, a minimum of 25% in bonds is necessary to give investors the peace of mind to hold onto stocks in the worst bear markets.\n",
      "\n",
      "Bonds\n",
      "Unless investors are in the lowest tax bracket, they should purchase only tax-free municipal bonds. The only place to own taxable bonds is inside the 401(k) account. As interest rates rise, short-term bonds fall less than long-term bonds. But when interest rates fall, a long-term bond will outperform short-term ones.\n",
      "Therefore, to avoid guessing interest rates, it's best to buy bonds that mature in five to 10 years as they remain relatively stable. Bond funds are a better idea than individual bonds as they offer an easy way to diversify and reduce risk.\n",
      "Mutual funds\n",
      "A defensive investor can follow two approaches to stock selection. First, they can rely on a diversified cross-section of the market through an index fund. Second, they can create a quantitatively tested portfolio of reliable stocks.\n",
      "Mutual funds are a fantastic way for a defensive investor to capture the upside of diversified stock ownership without the effort of actively monitoring one's portfolio.\n",
      "A defensive investor's best long-term bet is to invest in index funds that own all stocks in the market without trying to select the \"best\" stocks. The low trading costs and operating expenditures mean that an index fund will outperform most mutual funds over the long run.\n",
      "Both Graham and Warren Buffet recommend index funds as the best choice for individual investors to own stocks. Take advantage of dollar-cost averaging by investing the same amount every month in a portfolio of index funds. This simple practice ensures that you buy more shares when the markets are low than when it is high.\n",
      "Stock selection\n",
      "\n",
      "If you enjoy the intellectual challenge of picking stocks, you can make the index fund the foundation of your portfolio and experiment with a small portion of funds (~10%) on stocks. Here are Graham's rules for the defensive investor's stock portfolio:\n",
      "There should be adequate diversification with a minimum of ten stocks and a maximum of 30. Avoid overexposure to a single industry.\n",
      "Each company selected must be significant, prominent and conservatively financed.\n",
      "Each company must have ten years of continuous dividend payments.\n",
      "The investor must not pay more than 25 times the average earnings over seven years and not more than 20 times the average earnings of the last year.\n",
      "Investors must not look for better than average returns by investing in growth stocks. They carry too much risk due to the high speculative element in their prices. Instead, they must confine themselves to large established companies with a history of profitable operations, stable financial conditions and reasonable profit/earnings ratio.\n",
      "Wall Street calculates the Price/Earnings ratio primarily on next year's earnings. However, Graham insists on calculating the Price/Earnings Ratio based on a multi-year average of past returns, which lowers the odds that an investor will overvalue the company simply because it had an odd profitable year or has high revenue projections.\n",
      "Let's say a company has earned $0.50 per share over six years but earned $3 over the last 12 months. At 25 times the P/E ratio (based on the last year), the stock would be valued at $75. In contrast, valued at 25 times the average earnings over the past seven years, and the stock would be valued at just $21.43.\n",
      "[widget]\n",
      "Stock analysis for defensive investors\n",
      "Here are Graham's criteria for stock selection:\n",
      "\n",
      "Size of the Enterprise:\n",
      "Choose companies with at least $2 billion in annual assets to ensure they are large enough to avoid high volatility in stock prices.\n",
      "Strong Financials\n",
      "The company's current assets must be twice the current liabilities to ensure a cushion for difficult times. Long-term debt must not exceed working capital. In 2003, about 120 of the S&P 500 companies met this ratio.\n",
      "Earnings Stability:\n",
      "There must be some earnings for the common stock over the past ten years. 86% of companies in the S&P index had positive earnings every year from 1993 to 2002.\n",
      "\n",
      "Dividend Record:\n",
      "They should have processed uninterrupted payments for at least 20 years. Over 255 companies had paid dividends from 1993 to 2002.\n",
      "\n",
      "Earnings Growth:\n",
      "The company should show a minimum increase of at least 33% in per-share earnings over the past ten years. Over 260 companies met this standard as of 2002.\n",
      "Moderate Price/Earnings Ratio:\n",
      "The stock's current price should not be more than 15 times the average earnings of the past three years. This multiple, adjusted for 2002 levels, is 22.5 times the average earnings of the past three years.\n",
      "Moderate Ratio of Price to Assets:\n",
      "The stock price must not be more than 1.5 times the last book value. If the multiplier of earnings is below 15, it can justify a higher multiplier of assets.\n",
      "Graham's rule of thumb is that the company's total multiplier of earnings and multiplier of book value should not exceed 22.5. The overall portfolio of stocks must have an earnings/price ratio at least as high as the current bond rate. If you find this degree of analysis difficult, avoid stock picking and invest entirely in index funds.\n",
      "Graham designed this approach to create a core portfolio that requires minimal maintenance and a maximal chance of a steady return. After curating the initial portfolio, if the investor is trading more than twice a year, it is a clear sign something has gone wrong.\n",
      "The defensive investor wins the race by sitting still. By sticking to an autopilot formula for investment decisions, the defensive investor gives up the risk of speculating on stock movements and worrying about market swings.\n",
      "resource image\n",
      "Margin of safety\n",
      "An investor must insist on a margin of safety in every investment to absorb negative changes. This margin of safety is the difference between the percentage of earnings at the price paid and the interest rate on bonds.\n",
      "The price at which you acquire the stock is the crucial determinant of being a good or a bad buy. You should skip even the best company if the price goes too high and consider even the worst company if its stock goes low enough to create a substantial margin of safety.\n",
      "Assume an investor buys a stock that can grow at 10% per year at a time when the market grows 5% annually — but it's at the height of a bull market, and the stock drops by 50% the following year.\n",
      "Even if the stock continues to perform at 5% above market value, it will take the investor more than 16 years to overtake the market. All because they bought at the wrong price. By refusing to overpay, you minimize chances of wealth destruction.\n",
      "With value investing, you can achieve satisfactory investment results over the long run with reduced risk and without losing sleep over periodic market fluctuations. All it requires is the discipline to never purchase far above tangible asset value, resist the urge to invest in glamorous growth stocks and replace the mindset of a speculator with the investment approach of a partner.\n",
      "Saved 24 chunks to memory collection miyagi-investment-thesis\n"
     ]
    }
   ],
   "source": [
    "using Microsoft.SemanticKernel.Text;\n",
    "using System.IO;\n",
    "\n",
    "#pragma warning disable SKEXP0055\n",
    "\n",
    "var dataset = \"intelligent-investor.txt\";\n",
    "var recommendationServicePath = \"../../../../services/recommendation-service/dotnet\";\n",
    "const int MaxTokensPerParagraph = 300;\n",
    "const int MaxTokensPerLine = 100;\n",
    "\n",
    "// Load text data from a local file\n",
    "var filePath = Path.Combine(recommendationServicePath, \"resources\", \"sample-datasets\", dataset);\n",
    "var streamReader = new StreamReader(filePath);\n",
    "var text = await streamReader.ReadToEndAsync();\n",
    "\n",
    "// Define a memory collection name for indexing\n",
    "var memoryCollectionName = \"miyagi-investment-thesis\";\n",
    "\n",
    "// Chunk the text into lines and paragraphs for manageable processing\n",
    "var lines = TextChunker.SplitPlainTextLines(text, MaxTokensPerLine);\n",
    "var chunks = TextChunker.SplitPlainTextParagraphs(lines, MaxTokensPerParagraph);\n",
    "\n",
    "// Loop through each chunk to generate embeddings and persist to ACS\n",
    "for (var i = 0; i < chunks.Count; i++)\n",
    "{\n",
    "    var chunk = chunks[i];\n",
    "    System.Console.WriteLine($\"{chunk}\");\n",
    "    // Generate an identifier for each chunk\n",
    "    await textMemory.SaveInformationAsync(\n",
    "        memoryCollectionName,\n",
    "        chunk,\n",
    "        $\"{dataset}-{i}\",\n",
    "        $\"Dataset: {dataset} Chunk: {i}\",\n",
    "        i.ToString());\n",
    "}\n",
    "\n",
    "// Output the result to console\n",
    "System.Console.WriteLine($\"Saved {chunks.Count} chunks to memory collection {memoryCollectionName}\");\n"
   ]
  },
  {
   "cell_type": "markdown",
   "metadata": {},
   "source": [
    "## Search and retrieve documents using Semantic Kernel"
   ]
  },
  {
   "cell_type": "markdown",
   "metadata": {},
   "source": [
    "To search and retrieve documents, we will use the `SearchAsync` method of Semantic memory that encapsulates retrieval abstractions of different memory providers. This method takes in a query and returns a list of documents that are relevant to the query."
   ]
  },
  {
   "cell_type": "code",
   "execution_count": 15,
   "metadata": {
    "dotnet_interactive": {
     "language": "csharp"
    },
    "polyglot_notebook": {
     "kernelName": "csharp"
    }
   },
   "outputs": [
    {
     "name": "stdout",
     "output_type": "stream",
     "text": [
      "[-0.01922113,-0.027106723,0.018781563,-0.032235023,0.0009682162,0.01602427,-0.03535196,0.0016125836,-0.018275393,-0.0017699292,-0.017476177,0.022564515,0.011881669,0.017969027,0.016663643,0.024269508,0.029144723,0.002798919,0.0155447405,-0.008871292,-0.029757455,-0.0061805993,0.011502042,-0.028079102,-0.004089319,0.0010864335,0.025574895,-0.012720846,-0.004868554,0.0061805993,0.036950395,2.660149E-05,-0.01031654,0.022950804,-0.014892047,-0.015864426,-0.008305181,0.026214266,0.048006207,-0.004089319,0.0031735513,0.0010339849,-0.0033200742,-0.0259745,0.00084666885,0.0025641494,0.02072632,-0.0029271266,-0.018781563,-0.005994116,0.018874805,0.025761377,-0.033860095,0.01401291,0.0061872597,0.008544945,0.015571381,0.004352394,0.008897932,-0.0072662,0.007945534,-0.010962572,-0.009637206,0.022551196,-0.012174715,0.008917912,0.00024871418,0.0082718795,0.0124744205,0.0022910843,0.027599573,0.029544331,0.004345734,0.012814088,0.012993911,-0.00775905,-0.015598021,-0.0049085147,-0.0003248894,0.0076191872,-0.0079655135,0.012547682,-0.025281848,0.0025141987,0.0053514135,-0.020619757,-0.004349064,0.02746637,-0.010203317,-0.02327049,0.02751965,0.0073261415,0.016463839,0.027173325,-0.03527204,0.010223297,-0.02113925,0.0041426,0.012287937,-0.02019351,0.0066934293,-0.006513606,0.0030187033,-0.016130831,-0.016876766,-0.010283238,0.009770408,0.010096755,0.016170792,-0.022484595,-0.008125357,0.0012046507,-0.0060940175,-0.03465931,0.011082454,-0.010662866,0.007059736,0.0056777596,0.0067600305,-0.022271471,0.021125928,-0.040307097,0.018608399,0.0012546018,0.0060940175,0.01812887,-0.043637164,-0.021312412,0.0056644394,0.00259079,0.019514177,0.012887349,-0.0054646353,-0.0023760009,-0.021672059,0.012794107,-0.011202336,0.0142127145,-0.037616406,-0.03729672,0.008098717,0.020340033,-0.013866388,0.0022427982,-0.007992154,0.009031135,-0.0003047009,0.028398788,-0.0083251605,-0.005954155,0.007812331,-0.010403121,0.017702622,0.010702827,-0.005584518,3.748924E-05,-0.017329656,0.026640514,-0.016463839,-0.0016134161,0.017449537,0.0072861807,0.00935748,0.037722968,0.00070097856,0.020100268,0.017489498,0.024429351,0.00057110604,0.0012196361,0.0138530675,0.029277926,-0.03148909,0.015398217,-0.013053852,0.03972101,-0.003151906,-0.007712429,-0.018675001,-0.018155511,-0.0051949006,0.0011197341,0.01605091,0.01607755,0.009084416,-0.016037589,0.018088909,-0.021099288,0.012720846,-0.025215248,-0.0017008303,0.033247363,-0.0010905961,0.0053081224,-0.65983224,-0.024043065,-0.0015975983,-0.006104008,0.024016423,0.00092825544,0.011815068,0.001295395,-0.0043790345,0.011708506,0.0007509295,-0.009037795,-0.02179194,-0.014758845,0.033886734,-0.02127245,0.007978834,-0.043264195,0.01814219,-0.004036038,-0.006886573,0.018728282,-0.00827854,-0.013180395,0.01812887,0.02125913,-0.006919874,-0.041559204,-0.02128577,0.027359808,-0.023403691,0.052561734,0.006790001,0.02225815,0.053014625,0.007705769,-0.024522593,0.008065416,0.027626213,0.040653426,-0.017942386,-0.015344936,0.024495954,-0.016117511,-0.012874029,0.03998741,0.02165874,-0.0019131219,0.009623886,0.015637983,0.003779623,0.010003514,-0.019780582,0.017462857,0.01819547,-0.0017166481,0.025614854,-0.024735717,-0.0076791286,-0.0125743225,-0.026760397,-0.0060840277,-0.01916785,-0.015198413,-0.002271104,-0.0008708118,-0.004202541,0.019047968,0.0062871613,-0.026800357,0.013733185,0.024202907,-0.028105743,-0.003563169,0.027053442,0.0003157317,0.034259703,-0.0054013645,0.00029471068,0.0027073424,-0.0059807957,-0.019807223,-0.017929066,-0.003419976,0.039747648,0.011495382,-0.0009673837,-0.026334148,0.0016733573,0.002947107,-0.008744749,0.011728487,0.010443082,-0.014199394,-0.0050583677,0.02802582,0.013173735,0.008598226,0.013366878,-0.03212846,-0.007352782,0.0022494583,0.013233676,0.0022744338,-0.0017749242,0.0047520017,0.014226035,0.0051649297,0.017196452,-0.039427962,-0.0013586662,-0.014585681,-0.0047420114,0.019713981,-0.021831902,-0.036923755,0.021099288,-0.0006106505,-0.0022444634,-0.014852087,0.022098307,0.010989212,0.012487741,0.0041725705,0.00515827,0.0025974503,-0.0053014625,-0.013386859,-0.02382994,-0.0005332265,-0.008405082,-0.011595284,0.016303996,0.0028522,-0.009523984,0.01346678,-0.0072262394,-0.03996077,0.0011763453,-0.026307508,-0.013580002,-0.007406063,0.016410558,0.011282258,-0.020233471,-0.020313391,0.011022513,0.007572566,0.0009881966,0.005541227,0.020513196,0.016210753,-0.0048419135,0.012620944,0.0035997995,-0.005104989,-0.016437197,-0.03164893,-0.016903406,-0.012887349,-0.0007401068,0.0018831514,-0.011075794,-0.017422896,-0.021911824,0.0023077347,0.0031152752,0.037350003,2.9164079E-05,-0.016410558,-0.0005378054,0.005224871,-0.0028571952,0.0042191916,-0.008691468,0.018355314,-0.0062805014,-0.012854048,0.012760807,-0.013193714,-0.0049784463,-0.007046416,-0.0073394617,0.0038029335,0.045821685,-0.0044855964,0.019420935,0.020393314,-0.0020629747,-0.0033550397,0.005428005,0.030929638,-0.020233471,-0.00076050346,-0.0041192896,0.014892047,-0.0040160576,-0.01350008,0.0020263442,-0.00068016566,0.008564926,0.017782543,-0.0038029335,-0.019833863,0.0044123353,-0.00515827,0.017276375,-0.019487536,0.0070730564,0.021592136,0.008504984,-0.0070197755,0.000113846574,-0.0017765893,-0.011795088,-0.011695186,0.011095774,0.031675573,-0.0076191872,-0.0033950005,0.008644847,0.0100634545,0.006939854,-0.013033872,-0.0131404335,0.029251285,-0.0034499466,0.0038062634,-0.009750429,-0.01599763,-0.0050417176,0.01916785,0.017329656,0.006360423,0.000982369,-0.013233676,0.026973521,-0.017356295,0.04808613,-0.0013303607,0.013000571,0.008644847,0.008651507,-0.0021528865,0.0074393637,0.010223297,0.025255207,0.014545721,-0.025308488,0.0055279066,-0.005394704,0.012694205,0.006064047,0.0014802136,0.020739641,-0.033753533,-0.0011638575,0.008465024,0.0028738454,0.01190165,0.0018881465,0.022937482,-0.0036997015,0.007958854,-0.012221336,-0.005741031,0.0015601352,-0.0063437726,-0.024549235,-0.0037429924,0.022604477,-0.018368635,0.011428781,-0.0014011245,0.022684399,0.00072886783,0.017822504,-0.014852087,0.0047520017,-0.0069132135,-0.02686696,-0.016796844,0.028159024,0.010929271,-0.016970009,-0.01499861,-0.0036430904,-0.014772166,4.7193254E-05,0.017316334,-0.007159638,-0.01501193,-0.017942386,0.017489498,0.026214266,-0.008651507,0.021445613,-0.021578817,-0.0054180147,-0.0056810896,0.024602516,0.00116469,0.008531624,-0.03002386,0.004355724,-0.008198618,-0.022844242,-0.015171773,-0.013346897,-0.009976872,0.020593118,-0.018688321,-0.016783524,-0.010209978,0.024935521,0.008831331,0.0056644394,-0.00021770295,0.020486556,0.0001574496,-0.024535913,-0.008092056,-0.042251855,0.0238033,0.13011228,0.026027782,-0.0040127276,0.01964738,-0.008584905,0.029784095,-0.012347879,-0.040440302,0.013573342,-0.013373538,0.03058331,-0.0029604272,-0.007705769,-0.0039494564,-0.0055612074,-0.0020629747,-0.034392904,-0.029304566,0.03154237,-0.021405654,0.019634059,-0.0005070023,0.0068099815,0.039268117,0.0034432865,-0.006357093,0.022111626,0.006563557,-0.0005586183,0.00086748175,0.006906553,-0.014106153,0.0018731612,0.020353353,-0.019860504,-0.016157473,-0.0057343706,0.010629565,0.016423877,-0.021312412,0.00040918167,0.022631116,0.018182151,-0.009077756,-0.004558858,-0.027333168,-0.010409781,0.018275393,0.010942591,-0.01708989,0.022005064,-0.012168055,-0.037882812,0.0064470046,0.0054046945,0.008977854,0.00023331263,0.007985494,-0.008305181,-0.029864017,-0.018008988,-0.037083596,0.036044616,-0.0070330957,0.024589196,-0.02165874,-0.012674225,0.0061239884,-0.00880469,-0.008691468,-0.016756883,-0.00877139,-0.024189588,-0.022164907,0.015784506,0.018754922,0.010263259,0.0041592503,-0.015358257,0.002585795,0.0016100861,-0.025015444,-0.0026573914,-0.015118492,0.009856991,0.006054057,0.00090910756,-0.011208996,-0.008132017,0.004285793,0.0029604272,0.004402345,0.02751965,-0.030982919,0.005900874,-0.010722807,0.009990193,0.0132403355,0.020952765,-0.0038628746,0.012201356,0.010389801,-0.015025251,-0.016650321,0.007559246,0.028425429,-0.00070847117,-0.0011472071,-0.011821728,-0.009663846,0.015344936,-0.024735717,0.0058142925,-0.0056810896,-0.0012296262,-0.0029704173,0.018408595,0.007938873,-0.0029620922,-0.0064470046,0.016383916,-0.017289694,0.0107294675,0.036044616,-0.0054413253,-0.017769223,0.010722807,0.013520061,0.00050242344,0.003972767,-0.0059841257,0.0009407432,-0.021552177,-0.013560022,-0.02177862,-0.022084987,-0.03665735,-0.004555528,-0.009437403,-0.010043474,-0.016144153,-0.0044855964,0.024629155,-0.015717903,-0.0033100839,-0.026014462,-0.006307142,0.004199211,-0.0003184374,0.027133364,-0.0258413,0.017342975,-0.002269439,0.0148254465,0.010183337,-0.034765873,0.008251899,-0.001371154,0.027546292,0.01138882,0.030423468,0.004345734,0.021112608,0.018901445,0.01240116,-0.02335041,-0.0038229139,-0.0004870219,-0.0310362,0.026720436,0.0052148807,-0.01244112,0.002475903,-0.011009193,0.00088829466,0.021818582,-0.013839748,-0.002117921,-0.04126616,-0.019580778,-0.01651712,-0.014199394,-0.0047420114,-0.0031219353,-0.040786628,-0.0072195795,0.021645417,0.021938464,0.022897523,-0.0072861807,0.01659704,-0.014279316,0.031196043,0.011335539,0.032394867,-0.011821728,-0.018435236,-0.030823076,-0.020846203,0.003929476,0.004452296,0.018728282,0.0073261415,-0.01702329,0.004971786,-0.012740826,-0.011288918,-0.0062139,0.041159596,-0.0124211395,-0.011835049,-0.014772166,-0.027266568,0.0007958854,0.008112037,0.012973931,0.008524965,0.024016423,-0.011175696,-0.0038428942,0.004455626,0.010915951,0.027679496,-0.0042891228,0.0074926447,0.015677942,0.005907534,-0.026227586,0.025721418,0.006476975,0.009677167,-0.0064503346,0.013406839,-0.011595284,-0.016983328,0.0013628288,0.011049153,-0.012214676,-0.012827408,0.026054423,-0.001088931,0.015051891,0.0037096916,-0.0040626787,-0.02538841,0.0016358941,0.020486556,0.006676779,-0.0091443565,-0.024229549,-0.019860504,-0.006110668,-0.008411743,0.004552198,-0.001580948,0.00020105264,0.0052848123,-0.0015651302,0.012081473,0.01864836,0.019634059,0.015384898,0.009204297,0.004029378,0.009923591,0.011042493,-0.02128577,-0.013746506,0.0033450497,0.022417992,0.0058376025,-0.012201356,0.0019880484,-0.032235023,0.017995667,-0.007692449,0.0048219333,-0.0033616999,-0.010689506,0.0008046268,-0.002221153,0.04603481,-0.017569419,0.018235432,-0.008411743,0.01863504,0.009004494,-0.012154735,-0.008112037,-0.0015268344,0.006373743,-0.036550786,0.00032051868,0.020393314,0.006253861,0.0015692929,0.014932008,0.015771184,0.004901855,0.0010706157,-0.0026424062,0.013246996,-0.026693795,0.0055245766,0.0105230035,0.0035997995,0.023483614,-0.0025558244,0.009876971,-0.022551196,-0.0059275143,0.010516343,-0.007419383,0.007332802,-0.02994394,0.027786057,0.017209772,-0.029251285,-0.017329656,-0.0028238946,0.003889515,-0.019940425,-0.012787447,-0.019487536,0.033806812,0.022870881,0.019700661,-0.016676962,-0.011735147,-0.0040593483,0.0029188013,0.0017799194,0.019780582,-0.006919874,0.01344014,-0.016956687,0.0003119854,0.010083435,-0.0042924527,-0.0021279112,0.008964533,0.006513606,-0.005384714,0.006816642,-0.008378441,0.004871884,-0.026254227,0.0036897112,-0.014758845,-0.0074460236,-0.0004820268,0.029704174,0.012487741,-0.023630137,-0.011275598,-0.0011780103,-0.029331207,-0.023510255,0.005035057,0.015051891,-0.005554547,-0.0142659955,0.0072395597,0.02385658,-0.014026231,-0.0071130176,-0.015145132,0.01754278,0.019314373,-0.02797254,-0.0027006823,0.006147299,-0.017129852,-0.023443652,0.027266568,0.009970212,-0.0006647641,-0.00079505285,0.012128094,0.011974911,0.008644847,0.0028288895,0.0048052827,0.013719865,0.0063337823,-0.024216227,0.0026773717,0.013080493,-0.00932418,-0.021605458,0.017862465,-0.015118492,-0.030316906,0.0073594423,-0.011155715,0.0031252655,-0.004612139,0.0067400504,-0.0023926513,-0.020393314,0.039108276,0.037056956,0.005604498,-0.009024475,0.00622389,0.01350008,-0.0025708096,-0.0091443565,-0.0059375046,-0.026613874,0.011435441,0.014745525,0.008498324,-2.0903959E-05,0.006476975,-0.019474216,0.016130831,-0.001553475,0.016676962,0.011661885,-0.02589458,-0.0132936165,-0.027333168,0.024535913,-0.011781768,-0.017902426,-0.005088338,-0.0061373087,-0.025308488,-0.008638187,-0.019753942,-0.021645417,-0.0032384875,0.00986365,-0.0025158636,-0.0003126098,0.2325184,-0.02802582,0.010776089,0.017875785,-0.00079422037,-0.013120454,0.021125928,0.005348083,-0.0075326054,0.017729262,-0.008751409,0.0021945124,-0.025175286,0.0031718863,-0.0062472005,-0.0425449,-0.027865978,-0.016943367,-0.024629155,0.014692244,0.032847755,-0.008331821,-0.0058376025,-0.015065211,0.024975482,0.002738978,-0.015304975,0.0134467995,0.025508292,0.026573913,-0.010016833,-0.018341994,-0.018381955,-0.008045435,-0.006167279,0.0052048904,-0.0029704173,0.0011880004,0.02068636,-0.0033450497,0.025188606,0.030183703,-0.016916728,-0.00079089025,0.0070330957,0.013167074,-0.013207035,-0.0127807865,-0.0019097918,0.026840318,-0.035485167,0.011808408,0.02069968,0.025295168,-0.0089378925,-0.0003964858,-0.0038695347,-0.0023926513,0.0026673814,-0.0074926447,-0.010642885,0.020393314,0.011808408,0.0041092993,0.012787447,0.022617796,-0.03415314,0.028691834,0.019500857,-0.021978425,0.02283092,-0.0018998017,-0.01658372,0.006377073,-0.035831492,-0.017156491,0.02797254,0.014785485,0.02642739,0.0014785485,-0.0020962756,0.012607624,-0.021632098,-0.0052848123,-0.0148787275,-0.05165596,0.021818582,-0.018595079,0.00010999619,-0.015371577,0.021352373,0.003976097,0.0054080244,0.0047020507,0.0196607,-0.020526517,-0.018168831,0.040120617,-0.02433611,-0.0030902997,-0.023576856,0.032741193,0.0142659955,0.018821524,-0.0013320257,-0.009657186,-0.0145190805,0.019527497,0.005737701,-0.007059736,-0.02283092,-0.0032717881,0.014958649,0.0006560227,0.014226035,0.0027889288,0.019514177,0.007912233,0.030743154,-0.024522593,-0.011029173,-0.01138882,0.029224645,0.011575304,0.0021395662,0.009983533,-0.0124744205,-0.011015853,-0.014412519,-0.02177862,0.015451498,-0.009990193,-0.004778642,-0.0320219,-0.022324752,0.0056311386,0.00827854,0.004442306,-0.013959629,0.010469723,-0.023123967,0.010989212,-0.02175198,-0.01601095,-0.0023626806,-0.02994394,0.015451498,0.00931086,-0.008911252,0.010589604,-0.0075459257,0.0052115507,-0.02327049,-0.015025251,0.02225815,-0.009370801,-0.006460325,-0.059461627,0.010076774,0.013959629,-0.029677533,0.009151016,0.011002532,-0.018768242,0.0040227175,-0.00232272,-0.17071241,0.012387839,0.037989374,-0.008644847,0.0258413,-0.01814219,0.021059327,0.0145324,-0.019194491,0.022870881,0.013639944,-0.0060240864,-0.025548253,-0.026147665,-0.002122916,-0.019287733,0.005790982,0.029730814,0.01343348,0.006353763,-0.0024592525,-0.023590175,-0.013060512,0.01450576,-0.012501062,0.009151016,0.004798623,0.022084987,-0.02332377,-0.031409167,-0.023883222,0.009876971,0.023390371,0.0005357241,0.02223151,0.0025574893,-0.007346122,-0.0059241843,-0.024908882,-0.004192551,0.03417978,0.019487536,0.01501193,0.017889105,-0.014732204,0.024389392,0.008864631,0.010429761,0.012301258,-0.0005190738,0.0044456357,-0.012887349,0.0026807017,0.016490478,0.00983035,-0.012307918,0.013879708,-0.0014868737,-0.0122679565,-0.015771184,-0.031009559,0.00518158,0.005597838,-0.029277926,-0.011815068,-0.018435236,-0.007978834,-0.008718109,-0.01864836,0.014199394,-0.0067766807,-0.015065211,0.0041059693,-0.018008988,0.003829574,0.012521042,-0.010682846,0.021312412,0.00014090334,-0.015877746,0.00053239404,0.015331616,-0.00057776616,0.012374519,-0.0023993114,0.009437403,-0.0008100381,0.012254637,-0.0045288876,-0.02333709,0.008318501,-0.020926123,-0.0010756108,0.00061647815,0.01704993,0.018475197,-0.001866501,0.01658372,0.015957668,-0.017835824,-0.011941611,0.022098307,-0.02172534,-0.0053014625,0.025281848,0.009717127,0.013187055,0.020126909,0.018088909,-0.00015817805,-0.042092014,0.0029953928,0.008864631,0.007399403,0.0036131197,0.0106761865,-0.0037496525,-0.022790961,0.0007463507,-0.022697719,0.040120617,0.0031835416,-0.009377461,0.00032093495,-0.0041559204,-0.025934542,-0.098676465,-0.0026540612,-0.0073261415,0.011508702,0.015398217,0.006064047,-0.0014419178,-0.027599573,-0.015278335,0.04552864,-0.04206537,-0.03306088,-0.020979404,0.0056677694,0.025987823,-0.010596265,0.0009981868,-0.0053647337,-0.017276375,0.020459915,0.01136884,-0.027306527,0.0038462244,0.008864631,0.0006381236,0.0030969598,-0.027053442,0.010622906,0.008504984,-0.0014402529,-0.014119472,-0.00931086,0.010196657,-0.018861484,0.0079655135,-0.023190567,-0.022617796,-0.034472827,0.022178229,0.009710467,-0.006360423,0.016823485,0.011688526,-0.020153549,-0.021485575,-0.005587848,-0.015358257,0.011109094,0.003426636,-0.01968734,-0.030796435,-0.011701846,-0.03060995,-0.011015853,0.013693225,0.0087847095,0.0015076866,0.032474786,0.021112608,0.0033467147,-0.02069968,0.007659148,-0.011775107,0.020340033,0.018315354,0.011475402,-0.028691834,-0.02802582,-0.0030303586,-0.019620739,-0.0026757068,0.043876927,-0.00877139,0.01605091,-0.02075296,-0.025681457,-0.021179209,-0.023603495,0.015451498,-0.0009640536,-0.028212305,-0.022124948,0.010243278,-0.022671077,0.015584701,0.031222682,-0.0113421995,0.010529663,0.011015853,-0.019301053,0.0022544535,0.02125913,0.024162946,-0.019967066,-0.01609087,-0.015584701,0.0017665991,-0.0105230035,-0.014372557,0.007825651,-0.02125913,0.016956687,-0.05080346,0.033860095,-0.016970009,-0.0010181671,-0.0004670415,-0.008451703,0.008851311,-0.006157289,-0.02686696,0.0011080789,-0.0466209,0.022124948,0.0033700252,-0.001109744,-0.0028188995,-0.042491622,0.016277354,0.0036397602,-0.005531237,0.042758025,-0.0016675297,0.019820543,0.004781972,-0.0015343272,0.004249162,-0.002124581,-0.031355884,0.037989374,-0.030236984,-0.004871884,0.0010448077,-0.0075659063,0.0024559225,0.021498896,0.0063337823,-0.020952765,-0.021365693,0.011502042,0.032714553,0.003426636,-0.0144658,0.0037996033,0.013273637,-0.009710467,-0.0075858864,-0.0055778576,-0.024056384,0.0052515115,0.023536894,0.016890086,0.01702329,-0.001761604,-0.008964533,-0.02225815,-0.01296061,-0.0072195795,-0.0048519038,0.0129339695,0.016117511,-0.008538285,0.030290265,-0.004195881,0.002539174,-0.022151588,0.008105377,0.0027289877,-0.004798623,0.0021795272,-0.007146318,-0.040759988,-0.014945328,-0.004605479,0.01189499,0.027146684,-0.006257191,-0.011708506,0.010030154,-0.023643456,-0.022497915,0.018781563,0.0035398584,-0.0018898115,-0.01140214,-0.013706544,0.014985289,-0.00083667866,-0.011855029,0.0007838139,0.018528478,0.024908882,0.00052323635,0.018768242,-0.016410558,-0.028132383,0.0007958854,0.01450576,-0.022111626,0.032927677,-0.0056744297,-0.0009207628,-0.005800972,0.011568643,-0.0069798147,-0.03255471,-0.017662661,0.013746506,0.005641129,-0.030050501,-0.0064403443,-0.0037463224,0.01607755,0.0133935185,-0.0016741898,0.0060240864,-0.034366265,0.014918688,0.009270899,-0.032448146,-0.007918893,0.034259703,0.034259703,0.002494218,0.014359238,0.00015942683,0.011741807,0.011561983,-0.0030853045,-0.0020063638,-0.011581964,-0.0068599326,0.0022427982,-0.013733185,-0.008877952,-0.01296061,-0.0039328057,-0.031675573,-0.0076524876,0.024136307,-0.010636225,0.060846936,0.0060940175,0.016383916,-0.0043590544,0.012341218,0.014119472,-0.014026231,0.0009973543,-0.021312412,-0.031728853,-0.014425838,-0.013759825,0.0031985268,-0.027572932,-0.007818991,0.0047919624,-0.0032251673,0.022591157,-0.022417992,-0.016170792,0.022071667,0.0069132135,0.020979404,0.0006585202,-0.017849145,-0.015637983,-0.0035565088,0.011302238,-6.425983E-05,-0.0424117,0.0016975002,-0.011715166,-0.03407322,-0.0041092993,-0.004385695,-0.020513196,0.009583925,-0.028825037,0.020899484,-0.00026099378,-0.027839338,0.008431722,-0.0048385835,-0.037003674,0.015251694,0.03007714,-0.021978425,0.0029088112,-0.015451498]\n",
      "   Similarly, a defensive investor who has made a value-based investment based on sound business fundamentals will ignore the stock market valuation apart from taking advantage of its swings. Graham goes so far as to say that the single biggest reason investors fail is that they pay too much attention to what the stock market is currently doing.\n",
      "Intelligent investors should be comfortable holding their stocks even if they don't see the daily stock market prices for years. Experiments have shown that investors who received frequent news updates about their stocks earned half the returns of investors who received no information at all.\n",
      "resource image\n",
      "[widget]\n",
      "A defensive investor's stock portfolio\n",
      "Asset allocation\n",
      "Graham suggests a mechanical 50-50 split between stocks and bonds for defensive investors to guard against over-purchasing shares in a bull market and rushing into bonds in a bear market. The only action they should take is to rebalance their portfolio every six months if market developments alter this 50-50 ratio by over 5%.\n",
      "   Relevance: 0.85772040898315749\n",
      "\n",
      "   SYNOPSIS\n",
      "This book will not teach you how to beat the market. However, it will teach you how to reduce risk, protect your capital from loss and reliably generate sustainable returns over the long run. Warren Buffett calls the Intelligent Investor \"\"by far the best book on investing ever written.\"\"\n",
      "Benjamin's proven value investing approach replaces risky attempts to project future share prices with sound investments based on the underlying value of the company's tangible assets.\n",
      "The Intelligent Investor by Benjamin Graham gives you everything you need to equip yourself with the investor's mindset necessary to avoid the panic of market fluctuations that plague the ordinary investor. Don't be ordinary. Be intelligent.\n",
      "\n",
      "TOP 20 INSIGHTS\n",
      "There are two kinds of investors. Defensive investors aim to protect their capital from losses, generate decent returns and minimize frequent decisions. Enterprising investors devote most of their time to manage their portfolios actively. An enterprising investor does not take more risks than a defensive investor but invests more in stock selection.\n",
      "   Relevance: 0.85053319629829105\n",
      "\n"
     ]
    }
   ],
   "source": [
    "using MongoDB.Bson;\n",
    "using MongoDB.Driver;\n",
    "using System.Linq;\n",
    "using System.Text.Json;\n",
    "\n",
    "var query = \"Ben Graham's investment philosophy\";\n",
    "\n",
    "MongoClient _client = new MongoClient(env[\"AZURE_COSMOS_MONGO_VECTORDB_CONNECTIONSTRING\"]);\n",
    "IMongoDatabase _database = _client.GetDatabase(env[\"AZURE_COSMOS_MONGO_VECTORDB_NAME\"]);\n",
    "int _maxVectorSearchResults = 2;\n",
    " \n",
    "var queryEmbedding = await embeddingGenerator.GenerateEmbeddingsAsync([query], null, default);\n",
    "var jsonString = JsonSerializer.Serialize(queryEmbedding[0]);\n",
    "var embedding = JsonSerializer.Deserialize<List<float>>(jsonString);\n",
    " \n",
    "var indexName = \"vectorSearchIndex\";\n",
    " \n",
    "string jsonDoc = \"{\\\"name\\\": \\\"\" + indexName + \"\\\",\\\"key\\\": {\\\"embedding\\\": \\\"cosmosSearch\\\"}, \\\"cosmosSearchOptions\\\": { \\\"kind\\\": \\\"vector-ivf\\\", \\\"numLists\\\": 2, \\\"similarity\\\": \\\"COS\\\", \\\"dimensions\\\": 1536 } }\";\n",
    " \n",
    "var collection = _database.GetCollection<BsonDocument>(\"miyagi-investment-thesis\");\n",
    "try\n",
    "{\n",
    "    _database.RunCommand<BsonDocument>(\"{ \\\"createIndexes\\\":\\\"miyagi-investment-thesis\\\",indexes:[\" + jsonDoc + \"]}\");\n",
    "}\n",
    "catch (Exception e)\n",
    "{\n",
    "    // collection.Indexes.DropOne(indexName);\n",
    "    // _database.RunCommand<BsonDocument>(\"{ \\\"createIndexes\\\":\\\"miyagi-investment-thesis\\\",indexes:[\" + jsonDoc + \"]}\");\n",
    "}\n",
    " \n",
    "var embeddingsArray = new BsonArray(embedding.Select(e => new BsonDouble(Convert.ToDouble(e))));\n",
    " \n",
    "BsonDocument[] pipeline = new BsonDocument[]\n",
    "                {\n",
    "                    BsonDocument.Parse($\"{{$search: {{cosmosSearch: {{ vector: [{string.Join(',', embeddingsArray)}], path: 'embedding', k: {_maxVectorSearchResults}}}, returnStoredSource:true}}}}\"),\n",
    "                    BsonDocument.Parse($\"{{$project: {{similarityScore: {{\\\"$meta\\\": \\\"searchScore\\\" }},document:\\\"$$ROOT\\\"}}}}\"),\n",
    "                };\n",
    " \n",
    "List<BsonDocument> bsonDocuments = await collection.Aggregate<BsonDocument>(pipeline).ToListAsync();\n",
    "\n",
    "foreach(var result in bsonDocuments){\n",
    "    Console.WriteLine(\"   \" + result[\"document\"][\"metadata\"][\"text\"]);\n",
    "    Console.WriteLine(\"   Relevance: \" + result[\"similarityScore\"] + \"\\n\");\n",
    "}\n",
    " \n",
    "//var resultDocuments = string.Join(\" \", result);"
   ]
  },
  {
   "cell_type": "markdown",
   "metadata": {},
   "source": [
    "## Grounding with Native Functions and SK's Memory \"recall\"\n",
    "\n",
    "> Note that this prompt template (semantic function) is located under services/reccommendation-service/dotnet/plugins/AdvisorPlugin"
   ]
  },
  {
   "cell_type": "code",
   "execution_count": null,
   "metadata": {
    "dotnet_interactive": {
     "language": "csharp"
    },
    "polyglot_notebook": {
     "kernelName": "csharp"
    }
   },
   "outputs": [],
   "source": [
    "using System.IO;\n",
    "using Microsoft.SemanticKernel;\n",
    "using Microsoft.SemanticKernel.PromptTemplates.Handlebars;\n",
    "\n",
    "var pluginFolder = $\"{recommendationServicePath}/Resources/Prompts\";\n",
    "\n",
    "// Construct the full file path\n",
    "var filePath = Path.Combine(pluginFolder, \"InvestmentAdvise.prompt.yaml\");\n",
    "\n",
    "KernelFunction advisorPlugin;\n",
    "\n",
    "// Use StreamReader to read the file\n",
    "using (StreamReader reader = new StreamReader(filePath))\n",
    "{\n",
    "    // Create the function from the YAML file using Handlebars template\n",
    "    advisorPlugin = kernel.CreateFunctionFromPromptYaml(\n",
    "        reader.ReadToEnd(),\n",
    "        promptTemplateFactory: new HandlebarsPromptTemplateFactory()\n",
    "    );\n",
    "}"
   ]
  },
  {
   "cell_type": "code",
   "execution_count": null,
   "metadata": {
    "dotnet_interactive": {
     "language": "csharp"
    },
    "polyglot_notebook": {
     "kernelName": "csharp"
    }
   },
   "outputs": [],
   "source": [
    "using Microsoft.SemanticKernel.Plugins.Memory;\n",
    "\n",
    "#pragma warning disable SKEXP0052\n",
    "\n",
    "// recall is from the TextMemoryPlugin, which has a recall method that can be invoked from Semantic Function to perform retrieval\n",
    "KernelPlugin memoryPlugin = kernel.ImportPluginFromObject(new TextMemoryPlugin(textMemory));"
   ]
  },
  {
   "cell_type": "markdown",
   "metadata": {},
   "source": [
    "### Set Kernel Arguments (context variables)"
   ]
  },
  {
   "cell_type": "code",
   "execution_count": null,
   "metadata": {
    "dotnet_interactive": {
     "language": "csharp"
    },
    "polyglot_notebook": {
     "kernelName": "csharp"
    }
   },
   "outputs": [],
   "source": [
    "using System.Text.Json;\n",
    "using Microsoft.SemanticKernel.ChatCompletion;\n",
    "\n",
    "#pragma warning disable SKEXP0052\n",
    "\n",
    "// Create few-shot examples\n",
    "List<ChatHistory> fewShotExamples = [\n",
    "    [\n",
    "        new ChatMessageContent(AuthorRole.User, @\"{\"\"stocks\"\":[{\"\"symbol\"\":\"\"MSFT\"\",\"\"allocation\"\":0.6},{\"\"symbol\"\":\"\"ACN\"\",\"\"allocation\"\":0.4}]}\"),\n",
    "        new ChatMessageContent(AuthorRole.Assistant, @\"{\"\"portfolio\"\":[{\"\"symbol\"\":\"\"MSFT\"\",\"\"gptRecommendation\"\":\"\"Booyah! Hold on, steady growth! Diversify, though!\"\"},{\"\"symbol\"\":\"\"ACN\"\",\"\"gptRecommendation\"\":\"\"Buy! Services will see a boom!\"\"}]}\")\n",
    "    ]\n",
    "];\n",
    "\n",
    "/*\n",
    "    * Resolve issue with Handlebars ProcessPositionalArguments issue with parameter parsing for TextMemoryPlugin-recall\n",
    "    * In prompt template for handlebars, the following is not working:\n",
    "    * {{TextMemoryPlugin-recall semanticQuery, miyagi-embeddings, 0.8, 3}}\n",
    "    *\n",
    "    * Meanwhile, use this alternative approach\n",
    "*/\n",
    "var memories = await kernel.InvokeAsync(memoryPlugin[\"Recall\"], new()\n",
    "{\n",
    "    [TextMemoryPlugin.InputParam] = $\"Investment advise for aggressive risk level\",\n",
    "    [TextMemoryPlugin.CollectionParam] = \"miyagi-investment-thesis\",\n",
    "    [TextMemoryPlugin.LimitParam] = \"2\",\n",
    "    [TextMemoryPlugin.RelevanceParam] = \"0.8\",\n",
    "});\n",
    "\n",
    "Console.WriteLine($\"Memories: {memories.GetValue<string>()}\");\n",
    "Console.WriteLine();\n",
    "\n",
    "// Set harcoded parameters for the AdvisorPlugin\n",
    "var stocks = new[] {\n",
    "    new {symbol = \"MSFT\", allocation = 0.3},\n",
    "    new {symbol = \"ACN\", allocation = 0.1},\n",
    "    new {symbol = \"JPM\", allocation = 0.3},\n",
    "    new {symbol = \"PEP\", allocation = 0.3}\n",
    "};\n",
    "\n",
    "var arguments = new KernelArguments\n",
    "{\n",
    "    [\"userId\"] = \"50\",\n",
    "    [\"stocks\"] = JsonSerializer.Serialize(stocks),\n",
    "    [\"risk\"] = \"aggressive\",\n",
    "    [\"fewShotExamples\"] = fewShotExamples,\n",
    "    [\"voice\"] = \"Jim Cramer\",\n",
    "    [\"memories\"] = memories.GetValue<string>()\n",
    "};\n",
    "arguments"
   ]
  },
  {
   "cell_type": "markdown",
   "metadata": {},
   "source": [
    "### Create native function"
   ]
  },
  {
   "cell_type": "code",
   "execution_count": null,
   "metadata": {
    "dotnet_interactive": {
     "language": "csharp"
    },
    "polyglot_notebook": {
     "kernelName": "csharp"
    }
   },
   "outputs": [],
   "source": [
    "// Copyright (c) Microsoft. All rights reserved.\n",
    "\n",
    "using System.ComponentModel;\n",
    "using Microsoft.SemanticKernel;\n",
    "\n",
    "\n",
    "/// <summary>\n",
    "///     UserProfilePlugin shows a native skill example to look user info given userId.\n",
    "/// </summary>\n",
    "/// <example>\n",
    "///     Usage: kernel.ImportSkill(\"UserProfilePlugin\", new UserProfilePlugin());\n",
    "///     Examples:\n",
    "///     SKContext[\"userId\"] = \"000\"\n",
    "///     {{UserProfilePlugin.GetUserAge $userId }} => {userProfile}\n",
    "/// </example>\n",
    "public class UserProfilePlugin\n",
    "{\n",
    "    /// <summary>\n",
    "    ///     Name of the context variable used for UserId.\n",
    "    /// </summary>\n",
    "    public const string UserId = \"UserId\";\n",
    "\n",
    "    private const string DefaultUserId = \"40\";\n",
    "    private const int DefaultAnnualHouseholdIncome = 150000;\n",
    "    private const int Normalize = 81;\n",
    "\n",
    "    /// <summary>\n",
    "    ///     Lookup User's age for a given UserId.\n",
    "    /// </summary>\n",
    "    /// <example>\n",
    "    ///     SKContext[UserProfilePlugin.UserId] = \"000\"\n",
    "    /// </example>\n",
    "    [KernelFunction, Description(\"Given a userId, get user age\")]\n",
    "    public string GetUserAge(\n",
    "        [Description(\"Unique identifier of a user\")]\n",
    "        string userId)\n",
    "    {\n",
    "        // userId = context.Variables.ContainsKey(UserId) ? context[UserId] : DefaultUserId;\n",
    "        userId = string.IsNullOrEmpty(userId) ? DefaultUserId : userId;\n",
    "        \n",
    "        int age;\n",
    "\n",
    "        if (int.TryParse(userId, out var parsedUserId))\n",
    "            age = parsedUserId > 100 ? parsedUserId % Normalize : parsedUserId;\n",
    "        else\n",
    "            age = int.Parse(DefaultUserId);\n",
    "\n",
    "        // invoke a service to get the age of the user, given the userId\n",
    "        return age.ToString();\n",
    "    }\n",
    "\n",
    "    /// <summary>\n",
    "    ///     Lookup User's annual income given UserId.\n",
    "    /// </summary>\n",
    "    /// <example>\n",
    "    ///     SKContext[UserProfilePlugin.UserId] = \"000\"\n",
    "    /// </example>\n",
    "    [KernelFunction, Description(\"Given a userId, get user annual household income\")]\n",
    "    public string GetAnnualHouseholdIncome(\n",
    "        [Description(\"Unique identifier of a user\")]\n",
    "        string userId)\n",
    "    {\n",
    "        \n",
    "        // userId = context.Variables.ContainsKey(UserId) ? context[UserId] : DefaultUserId;\n",
    "        userId = string.IsNullOrEmpty(userId) ? DefaultUserId : userId;\n",
    "\n",
    "        var random = new Random();\n",
    "        var randomMultiplier = random.Next(1000, 8000);\n",
    "\n",
    "        // invoke a service to get the annual household income of the user, given the userId\n",
    "        var annualHouseholdIncome = int.TryParse(userId, out var parsedUserId)\n",
    "            ? parsedUserId * randomMultiplier\n",
    "            : DefaultAnnualHouseholdIncome;\n",
    "\n",
    "        return annualHouseholdIncome.ToString();\n",
    "    }\n",
    "}"
   ]
  },
  {
   "cell_type": "code",
   "execution_count": null,
   "metadata": {
    "dotnet_interactive": {
     "language": "csharp"
    },
    "polyglot_notebook": {
     "kernelName": "csharp"
    }
   },
   "outputs": [],
   "source": [
    "// import the UserProfilePlugin\n",
    "kernel.Plugins.AddFromType<UserProfilePlugin>();"
   ]
  },
  {
   "cell_type": "markdown",
   "metadata": {},
   "source": [
    "### Invoke the LLM"
   ]
  },
  {
   "cell_type": "code",
   "execution_count": null,
   "metadata": {
    "dotnet_interactive": {
     "language": "csharp"
    },
    "polyglot_notebook": {
     "kernelName": "csharp"
    }
   },
   "outputs": [],
   "source": [
    "var result = await kernel.InvokeAsync(\n",
    "            advisorPlugin,\n",
    "            arguments\n",
    "        );\n",
    "result.GetValue<string>()"
   ]
  },
  {
   "cell_type": "markdown",
   "metadata": {},
   "source": [
    "![RaG Workflow](../../../../assets/images/sk-memory-orchestration.png)"
   ]
  }
 ],
 "metadata": {
  "kernelspec": {
   "display_name": ".NET (C#)",
   "language": "C#",
   "name": ".net-csharp"
  },
  "language_info": {
   "name": "polyglot-notebook"
  },
  "polyglot_notebook": {
   "kernelInfo": {
    "defaultKernelName": "csharp",
    "items": [
     {
      "aliases": [],
      "name": "csharp"
     }
    ]
   }
  }
 },
 "nbformat": 4,
 "nbformat_minor": 2
}
